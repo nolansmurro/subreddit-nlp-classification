{
 "cells": [
  {
   "cell_type": "markdown",
   "id": "2f227d50-f72b-46ea-9459-bc1b33a173bc",
   "metadata": {
    "tags": []
   },
   "source": [
    "# Data Collection"
   ]
  },
  {
   "cell_type": "code",
   "execution_count": 73,
   "id": "2fa5347b-aa18-4d7b-85b6-bcce83df6b45",
   "metadata": {
    "tags": []
   },
   "outputs": [],
   "source": [
    "import praw\n",
    "import pandas as pd"
   ]
  },
  {
   "cell_type": "markdown",
   "id": "4525df83-ce7b-41a2-95d5-83807822d4d1",
   "metadata": {},
   "source": [
    "### Initialize PRAW"
   ]
  },
  {
   "cell_type": "code",
   "execution_count": 74,
   "id": "a0c331c0-fb8f-4e11-a8ba-8dcc49bad8a3",
   "metadata": {
    "tags": []
   },
   "outputs": [],
   "source": [
    "reddit = praw.Reddit(\n",
    "    client_id='N_L2FO3oMD5rWldwIKechw',\n",
    "    client_secret='uphtK-KFajEZ8YtkdF0JYy9RLqvsNw',\n",
    "    user_agent='HouseplantCommentRetriever_1.0_by_/u/recycledontlitterpls',\n",
    "    username='recycledontlitterpls',\n",
    "    password='Thisisareallysecurepassword42'\n",
    ")"
   ]
  },
  {
   "cell_type": "markdown",
   "id": "19782d7a-5008-4e5d-bfe4-0a22b927c78d",
   "metadata": {},
   "source": [
    "### Initialize Data Lists"
   ]
  },
  {
   "cell_type": "code",
   "execution_count": 75,
   "id": "a5618612-a76a-4afc-ac44-fc8a962ea96d",
   "metadata": {},
   "outputs": [],
   "source": [
    "data_1 = []"
   ]
  },
  {
   "cell_type": "code",
   "execution_count": 76,
   "id": "a2bb4bf6-769b-4d85-9935-ae69696a462e",
   "metadata": {},
   "outputs": [],
   "source": [
    "data_2 = []"
   ]
  },
  {
   "cell_type": "markdown",
   "id": "8fd08d26-8160-4d99-874a-a2e3f85dbe05",
   "metadata": {},
   "source": [
    "### Collection"
   ]
  },
  {
   "cell_type": "code",
   "execution_count": 147,
   "id": "54c1c4c9-3c6e-42a6-9451-36a761de7840",
   "metadata": {
    "tags": []
   },
   "outputs": [],
   "source": [
    "subreddit_1 = reddit.subreddit('houseplants')\n",
    "posts_1 = subreddit_1.top(time_filter='all', limit=4000)"
   ]
  },
  {
   "cell_type": "code",
   "execution_count": 148,
   "id": "4facdbb1-29fa-4bd1-a531-8e2e0af03e07",
   "metadata": {
    "tags": []
   },
   "outputs": [],
   "source": [
    "subreddit_2 = reddit.subreddit('gardening')\n",
    "posts_2 = subreddit_2.top(time_filter='all', limit=4000)"
   ]
  },
  {
   "cell_type": "markdown",
   "id": "59245a9e-5f0e-47f0-986a-f24bc180e333",
   "metadata": {},
   "source": [
    "### Dataframe Creation"
   ]
  },
  {
   "cell_type": "code",
   "execution_count": 149,
   "id": "38ca5b94-4090-46da-b48d-b682498b62a5",
   "metadata": {
    "tags": []
   },
   "outputs": [
    {
     "data": {
      "text/html": [
       "<div>\n",
       "<style scoped>\n",
       "    .dataframe tbody tr th:only-of-type {\n",
       "        vertical-align: middle;\n",
       "    }\n",
       "\n",
       "    .dataframe tbody tr th {\n",
       "        vertical-align: top;\n",
       "    }\n",
       "\n",
       "    .dataframe thead th {\n",
       "        text-align: right;\n",
       "    }\n",
       "</style>\n",
       "<table border=\"1\" class=\"dataframe\">\n",
       "  <thead>\n",
       "    <tr style=\"text-align: right;\">\n",
       "      <th></th>\n",
       "      <th>id</th>\n",
       "      <th>created_utc</th>\n",
       "      <th>title</th>\n",
       "      <th>self_text</th>\n",
       "      <th>comments</th>\n",
       "      <th>score</th>\n",
       "      <th>upvote_ratio</th>\n",
       "      <th>subreddit</th>\n",
       "    </tr>\n",
       "  </thead>\n",
       "  <tbody>\n",
       "    <tr>\n",
       "      <th>0</th>\n",
       "      <td>uw3f46</td>\n",
       "      <td>1.653321e+09</td>\n",
       "      <td>I feel attacked.</td>\n",
       "      <td></td>\n",
       "      <td>793</td>\n",
       "      <td>63651</td>\n",
       "      <td>0.94</td>\n",
       "      <td>houseplants</td>\n",
       "    </tr>\n",
       "    <tr>\n",
       "      <th>1</th>\n",
       "      <td>v4z9xu</td>\n",
       "      <td>1.654380e+09</td>\n",
       "      <td>The liberals are trying to make my plants gay!!</td>\n",
       "      <td></td>\n",
       "      <td>1281</td>\n",
       "      <td>54217</td>\n",
       "      <td>0.82</td>\n",
       "      <td>houseplants</td>\n",
       "    </tr>\n",
       "    <tr>\n",
       "      <th>2</th>\n",
       "      <td>q0hqvn</td>\n",
       "      <td>1.633268e+09</td>\n",
       "      <td>This was supposed to be a plant progress post ...</td>\n",
       "      <td></td>\n",
       "      <td>572</td>\n",
       "      <td>45198</td>\n",
       "      <td>0.96</td>\n",
       "      <td>houseplants</td>\n",
       "    </tr>\n",
       "    <tr>\n",
       "      <th>3</th>\n",
       "      <td>i5rplr</td>\n",
       "      <td>1.596855e+09</td>\n",
       "      <td>My grandpa made me a plant stand 💖</td>\n",
       "      <td></td>\n",
       "      <td>451</td>\n",
       "      <td>40218</td>\n",
       "      <td>0.96</td>\n",
       "      <td>houseplants</td>\n",
       "    </tr>\n",
       "    <tr>\n",
       "      <th>4</th>\n",
       "      <td>lkjvss</td>\n",
       "      <td>1.613414e+09</td>\n",
       "      <td>I let my Golden Pothos get outta hand for just...</td>\n",
       "      <td></td>\n",
       "      <td>593</td>\n",
       "      <td>39723</td>\n",
       "      <td>0.98</td>\n",
       "      <td>houseplants</td>\n",
       "    </tr>\n",
       "  </tbody>\n",
       "</table>\n",
       "</div>"
      ],
      "text/plain": [
       "       id   created_utc                                              title  \\\n",
       "0  uw3f46  1.653321e+09                                   I feel attacked.   \n",
       "1  v4z9xu  1.654380e+09    The liberals are trying to make my plants gay!!   \n",
       "2  q0hqvn  1.633268e+09  This was supposed to be a plant progress post ...   \n",
       "3  i5rplr  1.596855e+09                 My grandpa made me a plant stand 💖   \n",
       "4  lkjvss  1.613414e+09  I let my Golden Pothos get outta hand for just...   \n",
       "\n",
       "  self_text  comments  score  upvote_ratio    subreddit  \n",
       "0                 793  63651          0.94  houseplants  \n",
       "1                1281  54217          0.82  houseplants  \n",
       "2                 572  45198          0.96  houseplants  \n",
       "3                 451  40218          0.96  houseplants  \n",
       "4                 593  39723          0.98  houseplants  "
      ]
     },
     "execution_count": 149,
     "metadata": {},
     "output_type": "execute_result"
    }
   ],
   "source": [
    "for post in posts_1:\n",
    "    data_1.append([post.id, post.created_utc, post.title, post.selftext, post.num_comments, post.score, post.upvote_ratio, post.subreddit])\n",
    "\n",
    "# Turn into a dataframe\n",
    "houseplants = pd.DataFrame(data_1, columns = ['id', 'created_utc', 'title', 'self_text', 'comments', 'score', 'upvote_ratio', 'subreddit'])\n",
    "houseplants.head()"
   ]
  },
  {
   "cell_type": "code",
   "execution_count": 150,
   "id": "988cf03d-7b4c-4767-830f-68c89dd462d9",
   "metadata": {
    "tags": []
   },
   "outputs": [
    {
     "data": {
      "text/html": [
       "<div>\n",
       "<style scoped>\n",
       "    .dataframe tbody tr th:only-of-type {\n",
       "        vertical-align: middle;\n",
       "    }\n",
       "\n",
       "    .dataframe tbody tr th {\n",
       "        vertical-align: top;\n",
       "    }\n",
       "\n",
       "    .dataframe thead th {\n",
       "        text-align: right;\n",
       "    }\n",
       "</style>\n",
       "<table border=\"1\" class=\"dataframe\">\n",
       "  <thead>\n",
       "    <tr style=\"text-align: right;\">\n",
       "      <th></th>\n",
       "      <th>id</th>\n",
       "      <th>created_utc</th>\n",
       "      <th>title</th>\n",
       "      <th>self_text</th>\n",
       "      <th>comments</th>\n",
       "      <th>score</th>\n",
       "      <th>upvote_ratio</th>\n",
       "      <th>subreddit</th>\n",
       "    </tr>\n",
       "  </thead>\n",
       "  <tbody>\n",
       "    <tr>\n",
       "      <th>0</th>\n",
       "      <td>7eksjh</td>\n",
       "      <td>1.511295e+09</td>\n",
       "      <td>Join the Battle for Net Neutrality! Don't let ...</td>\n",
       "      <td></td>\n",
       "      <td>460</td>\n",
       "      <td>76139</td>\n",
       "      <td>0.87</td>\n",
       "      <td>gardening</td>\n",
       "    </tr>\n",
       "    <tr>\n",
       "      <th>1</th>\n",
       "      <td>7ojhzl</td>\n",
       "      <td>1.515249e+09</td>\n",
       "      <td>Dragon fruits on my rooftop garden</td>\n",
       "      <td></td>\n",
       "      <td>1202</td>\n",
       "      <td>52741</td>\n",
       "      <td>0.94</td>\n",
       "      <td>gardening</td>\n",
       "    </tr>\n",
       "    <tr>\n",
       "      <th>2</th>\n",
       "      <td>6xg9g5</td>\n",
       "      <td>1.504289e+09</td>\n",
       "      <td>My grandpa says we \"need to get the word out\" ...</td>\n",
       "      <td></td>\n",
       "      <td>947</td>\n",
       "      <td>46569</td>\n",
       "      <td>0.93</td>\n",
       "      <td>gardening</td>\n",
       "    </tr>\n",
       "    <tr>\n",
       "      <th>3</th>\n",
       "      <td>8lbiol</td>\n",
       "      <td>1.527008e+09</td>\n",
       "      <td>I'm having trouble identifying this plant</td>\n",
       "      <td></td>\n",
       "      <td>358</td>\n",
       "      <td>32472</td>\n",
       "      <td>0.92</td>\n",
       "      <td>gardening</td>\n",
       "    </tr>\n",
       "    <tr>\n",
       "      <th>4</th>\n",
       "      <td>8vkf9g</td>\n",
       "      <td>1.530552e+09</td>\n",
       "      <td>I used to sit in the desert of Afghanistan eat...</td>\n",
       "      <td></td>\n",
       "      <td>741</td>\n",
       "      <td>32425</td>\n",
       "      <td>0.87</td>\n",
       "      <td>gardening</td>\n",
       "    </tr>\n",
       "  </tbody>\n",
       "</table>\n",
       "</div>"
      ],
      "text/plain": [
       "       id   created_utc                                              title  \\\n",
       "0  7eksjh  1.511295e+09  Join the Battle for Net Neutrality! Don't let ...   \n",
       "1  7ojhzl  1.515249e+09                 Dragon fruits on my rooftop garden   \n",
       "2  6xg9g5  1.504289e+09  My grandpa says we \"need to get the word out\" ...   \n",
       "3  8lbiol  1.527008e+09          I'm having trouble identifying this plant   \n",
       "4  8vkf9g  1.530552e+09  I used to sit in the desert of Afghanistan eat...   \n",
       "\n",
       "  self_text  comments  score  upvote_ratio  subreddit  \n",
       "0                 460  76139          0.87  gardening  \n",
       "1                1202  52741          0.94  gardening  \n",
       "2                 947  46569          0.93  gardening  \n",
       "3                 358  32472          0.92  gardening  \n",
       "4                 741  32425          0.87  gardening  "
      ]
     },
     "execution_count": 150,
     "metadata": {},
     "output_type": "execute_result"
    }
   ],
   "source": [
    "for post in posts_2:\n",
    "    data_2.append([post.id, post.created_utc, post.title, post.selftext, post.num_comments, post.score, post.upvote_ratio, post.subreddit])\n",
    "\n",
    "# Turn into a dataframe\n",
    "gardening = pd.DataFrame(data_2, columns = ['id', 'created_utc', 'title', 'self_text', 'comments', 'score', 'upvote_ratio', 'subreddit'])\n",
    "gardening.head()"
   ]
  },
  {
   "cell_type": "code",
   "execution_count": 151,
   "id": "609e295b-6450-4b6a-89d4-3fd1978d3a38",
   "metadata": {
    "tags": []
   },
   "outputs": [
    {
     "data": {
      "text/html": [
       "<div>\n",
       "<style scoped>\n",
       "    .dataframe tbody tr th:only-of-type {\n",
       "        vertical-align: middle;\n",
       "    }\n",
       "\n",
       "    .dataframe tbody tr th {\n",
       "        vertical-align: top;\n",
       "    }\n",
       "\n",
       "    .dataframe thead th {\n",
       "        text-align: right;\n",
       "    }\n",
       "</style>\n",
       "<table border=\"1\" class=\"dataframe\">\n",
       "  <thead>\n",
       "    <tr style=\"text-align: right;\">\n",
       "      <th></th>\n",
       "      <th>id</th>\n",
       "      <th>created_utc</th>\n",
       "      <th>title</th>\n",
       "      <th>self_text</th>\n",
       "      <th>comments</th>\n",
       "      <th>score</th>\n",
       "      <th>upvote_ratio</th>\n",
       "      <th>subreddit</th>\n",
       "    </tr>\n",
       "  </thead>\n",
       "  <tbody>\n",
       "    <tr>\n",
       "      <th>6225</th>\n",
       "      <td>17a79pp</td>\n",
       "      <td>1.697573e+09</td>\n",
       "      <td>🪴 💚</td>\n",
       "      <td></td>\n",
       "      <td>1</td>\n",
       "      <td>5</td>\n",
       "      <td>1.00</td>\n",
       "      <td>houseplants</td>\n",
       "    </tr>\n",
       "    <tr>\n",
       "      <th>6226</th>\n",
       "      <td>179wm7d</td>\n",
       "      <td>1.697544e+09</td>\n",
       "      <td>I just won the trifecta of pests.. I ordered s...</td>\n",
       "      <td></td>\n",
       "      <td>1</td>\n",
       "      <td>21</td>\n",
       "      <td>1.00</td>\n",
       "      <td>houseplants</td>\n",
       "    </tr>\n",
       "    <tr>\n",
       "      <th>6227</th>\n",
       "      <td>179xuwg</td>\n",
       "      <td>1.697548e+09</td>\n",
       "      <td>What I Do In My Spare Time</td>\n",
       "      <td></td>\n",
       "      <td>0</td>\n",
       "      <td>16</td>\n",
       "      <td>0.91</td>\n",
       "      <td>houseplants</td>\n",
       "    </tr>\n",
       "    <tr>\n",
       "      <th>6228</th>\n",
       "      <td>179au5c</td>\n",
       "      <td>1.697476e+09</td>\n",
       "      <td>My Family of Maturing Pothos</td>\n",
       "      <td></td>\n",
       "      <td>41</td>\n",
       "      <td>639</td>\n",
       "      <td>1.00</td>\n",
       "      <td>houseplants</td>\n",
       "    </tr>\n",
       "    <tr>\n",
       "      <th>6229</th>\n",
       "      <td>179eawd</td>\n",
       "      <td>1.697484e+09</td>\n",
       "      <td>The ultimate curb find.</td>\n",
       "      <td>I happened to look out my window at the perfec...</td>\n",
       "      <td>16</td>\n",
       "      <td>392</td>\n",
       "      <td>0.99</td>\n",
       "      <td>houseplants</td>\n",
       "    </tr>\n",
       "  </tbody>\n",
       "</table>\n",
       "</div>"
      ],
      "text/plain": [
       "           id   created_utc  \\\n",
       "6225  17a79pp  1.697573e+09   \n",
       "6226  179wm7d  1.697544e+09   \n",
       "6227  179xuwg  1.697548e+09   \n",
       "6228  179au5c  1.697476e+09   \n",
       "6229  179eawd  1.697484e+09   \n",
       "\n",
       "                                                  title  \\\n",
       "6225                                                🪴 💚   \n",
       "6226  I just won the trifecta of pests.. I ordered s...   \n",
       "6227                         What I Do In My Spare Time   \n",
       "6228                       My Family of Maturing Pothos   \n",
       "6229                            The ultimate curb find.   \n",
       "\n",
       "                                              self_text  comments  score  \\\n",
       "6225                                                            1      5   \n",
       "6226                                                            1     21   \n",
       "6227                                                            0     16   \n",
       "6228                                                           41    639   \n",
       "6229  I happened to look out my window at the perfec...        16    392   \n",
       "\n",
       "      upvote_ratio    subreddit  \n",
       "6225          1.00  houseplants  \n",
       "6226          1.00  houseplants  \n",
       "6227          0.91  houseplants  \n",
       "6228          1.00  houseplants  \n",
       "6229          0.99  houseplants  "
      ]
     },
     "execution_count": 151,
     "metadata": {},
     "output_type": "execute_result"
    }
   ],
   "source": [
    "houseplants.tail()"
   ]
  },
  {
   "cell_type": "code",
   "execution_count": 152,
   "id": "498fb4ed-eb70-494e-8dbf-8707bf3bb0ba",
   "metadata": {
    "tags": []
   },
   "outputs": [
    {
     "data": {
      "text/html": [
       "<div>\n",
       "<style scoped>\n",
       "    .dataframe tbody tr th:only-of-type {\n",
       "        vertical-align: middle;\n",
       "    }\n",
       "\n",
       "    .dataframe tbody tr th {\n",
       "        vertical-align: top;\n",
       "    }\n",
       "\n",
       "    .dataframe thead th {\n",
       "        text-align: right;\n",
       "    }\n",
       "</style>\n",
       "<table border=\"1\" class=\"dataframe\">\n",
       "  <thead>\n",
       "    <tr style=\"text-align: right;\">\n",
       "      <th></th>\n",
       "      <th>id</th>\n",
       "      <th>created_utc</th>\n",
       "      <th>title</th>\n",
       "      <th>self_text</th>\n",
       "      <th>comments</th>\n",
       "      <th>score</th>\n",
       "      <th>upvote_ratio</th>\n",
       "      <th>subreddit</th>\n",
       "    </tr>\n",
       "  </thead>\n",
       "  <tbody>\n",
       "    <tr>\n",
       "      <th>5817</th>\n",
       "      <td>17a3uhx</td>\n",
       "      <td>1.697564e+09</td>\n",
       "      <td>First time growing potatoes!</td>\n",
       "      <td>Used a few old russets, chopped em up and spli...</td>\n",
       "      <td>1</td>\n",
       "      <td>12</td>\n",
       "      <td>1.00</td>\n",
       "      <td>gardening</td>\n",
       "    </tr>\n",
       "    <tr>\n",
       "      <th>5818</th>\n",
       "      <td>179fyvb</td>\n",
       "      <td>1.697488e+09</td>\n",
       "      <td>Bought a pack of wildflower seeds. I can’t get...</td>\n",
       "      <td></td>\n",
       "      <td>40</td>\n",
       "      <td>450</td>\n",
       "      <td>0.99</td>\n",
       "      <td>gardening</td>\n",
       "    </tr>\n",
       "    <tr>\n",
       "      <th>5819</th>\n",
       "      <td>179hetn</td>\n",
       "      <td>1.697492e+09</td>\n",
       "      <td>What type of squash is this and how do you kno...</td>\n",
       "      <td>I just moved into this house and noticed this ...</td>\n",
       "      <td>37</td>\n",
       "      <td>360</td>\n",
       "      <td>0.98</td>\n",
       "      <td>gardening</td>\n",
       "    </tr>\n",
       "    <tr>\n",
       "      <th>5820</th>\n",
       "      <td>17a0m64</td>\n",
       "      <td>1.697556e+09</td>\n",
       "      <td>Fall flowers</td>\n",
       "      <td>Hydrangea, zinnias, and cosmos fading into Oct...</td>\n",
       "      <td>0</td>\n",
       "      <td>13</td>\n",
       "      <td>0.89</td>\n",
       "      <td>gardening</td>\n",
       "    </tr>\n",
       "    <tr>\n",
       "      <th>5821</th>\n",
       "      <td>17a258s</td>\n",
       "      <td>1.697560e+09</td>\n",
       "      <td>Potato saving - 2 months time</td>\n",
       "      <td>Here our first harvest of potatoes in the West...</td>\n",
       "      <td>2</td>\n",
       "      <td>8</td>\n",
       "      <td>0.85</td>\n",
       "      <td>gardening</td>\n",
       "    </tr>\n",
       "  </tbody>\n",
       "</table>\n",
       "</div>"
      ],
      "text/plain": [
       "           id   created_utc  \\\n",
       "5817  17a3uhx  1.697564e+09   \n",
       "5818  179fyvb  1.697488e+09   \n",
       "5819  179hetn  1.697492e+09   \n",
       "5820  17a0m64  1.697556e+09   \n",
       "5821  17a258s  1.697560e+09   \n",
       "\n",
       "                                                  title  \\\n",
       "5817                       First time growing potatoes!   \n",
       "5818  Bought a pack of wildflower seeds. I can’t get...   \n",
       "5819  What type of squash is this and how do you kno...   \n",
       "5820                                       Fall flowers   \n",
       "5821                      Potato saving - 2 months time   \n",
       "\n",
       "                                              self_text  comments  score  \\\n",
       "5817  Used a few old russets, chopped em up and spli...         1     12   \n",
       "5818                                                           40    450   \n",
       "5819  I just moved into this house and noticed this ...        37    360   \n",
       "5820  Hydrangea, zinnias, and cosmos fading into Oct...         0     13   \n",
       "5821  Here our first harvest of potatoes in the West...         2      8   \n",
       "\n",
       "      upvote_ratio  subreddit  \n",
       "5817          1.00  gardening  \n",
       "5818          0.99  gardening  \n",
       "5819          0.98  gardening  \n",
       "5820          0.89  gardening  \n",
       "5821          0.85  gardening  "
      ]
     },
     "execution_count": 152,
     "metadata": {},
     "output_type": "execute_result"
    }
   ],
   "source": [
    "gardening.tail()"
   ]
  },
  {
   "cell_type": "code",
   "execution_count": 153,
   "id": "94ec1c3f-d0f3-4438-b800-3eabf1ef57a9",
   "metadata": {
    "tags": []
   },
   "outputs": [
    {
     "data": {
      "text/plain": [
       "(6230, 8)"
      ]
     },
     "execution_count": 153,
     "metadata": {},
     "output_type": "execute_result"
    }
   ],
   "source": [
    "houseplants.shape"
   ]
  },
  {
   "cell_type": "code",
   "execution_count": 154,
   "id": "619895d8-f7fa-4c82-aa09-bf3b38d58c16",
   "metadata": {
    "tags": []
   },
   "outputs": [
    {
     "data": {
      "text/plain": [
       "(5822, 8)"
      ]
     },
     "execution_count": 154,
     "metadata": {},
     "output_type": "execute_result"
    }
   ],
   "source": [
    "gardening.shape"
   ]
  },
  {
   "cell_type": "markdown",
   "id": "d026d902-6df7-4706-8944-4e39c4933674",
   "metadata": {},
   "source": [
    "### Export Dataframes to CSV"
   ]
  },
  {
   "cell_type": "code",
   "execution_count": 155,
   "id": "eb03feeb-251a-4c18-aa5d-1c1ee63e6984",
   "metadata": {
    "tags": []
   },
   "outputs": [],
   "source": [
    "houseplants.to_csv('../data/data_raw/houseplants.csv', index=False)"
   ]
  },
  {
   "cell_type": "code",
   "execution_count": 156,
   "id": "c6f0a743-6a0e-411b-a71a-755f3f67c7d8",
   "metadata": {},
   "outputs": [],
   "source": [
    "gardening.to_csv('../data/data_raw/gardening.csv', index=False)"
   ]
  }
 ],
 "metadata": {
  "kernelspec": {
   "display_name": "Python 3 (ipykernel)",
   "language": "python",
   "name": "python3"
  },
  "language_info": {
   "codemirror_mode": {
    "name": "ipython",
    "version": 3
   },
   "file_extension": ".py",
   "mimetype": "text/x-python",
   "name": "python",
   "nbconvert_exporter": "python",
   "pygments_lexer": "ipython3",
   "version": "3.11.5"
  }
 },
 "nbformat": 4,
 "nbformat_minor": 5
}
