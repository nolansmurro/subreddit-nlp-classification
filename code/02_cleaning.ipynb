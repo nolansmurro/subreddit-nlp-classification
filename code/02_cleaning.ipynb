{
 "cells": [
  {
   "cell_type": "markdown",
   "id": "4f81c403-4033-434f-9d9e-c5e3cb52c78a",
   "metadata": {},
   "source": [
    "# Cleaning"
   ]
  },
  {
   "cell_type": "code",
   "execution_count": 59,
   "id": "09239791-a810-4c84-80c2-6f7d57f7a5f3",
   "metadata": {
    "tags": []
   },
   "outputs": [],
   "source": [
    "import pandas as pd\n",
    "import numpy as np"
   ]
  },
  {
   "cell_type": "code",
   "execution_count": 60,
   "id": "8f1443a2-e9a7-4ccc-be3f-7f966929ec0a",
   "metadata": {
    "tags": []
   },
   "outputs": [],
   "source": [
    "houseplants = pd.read_csv('../data/data_raw/houseplants.csv')"
   ]
  },
  {
   "cell_type": "code",
   "execution_count": 61,
   "id": "d65f66c2-c343-4c47-9957-9a41b93f14ac",
   "metadata": {
    "tags": []
   },
   "outputs": [],
   "source": [
    "gardening = pd.read_csv('../data/data_raw/gardening.csv')"
   ]
  },
  {
   "cell_type": "code",
   "execution_count": 62,
   "id": "27589c0b-46f4-4e59-8d54-4fe869edc4b4",
   "metadata": {
    "tags": []
   },
   "outputs": [
    {
     "data": {
      "text/html": [
       "<div>\n",
       "<style scoped>\n",
       "    .dataframe tbody tr th:only-of-type {\n",
       "        vertical-align: middle;\n",
       "    }\n",
       "\n",
       "    .dataframe tbody tr th {\n",
       "        vertical-align: top;\n",
       "    }\n",
       "\n",
       "    .dataframe thead th {\n",
       "        text-align: right;\n",
       "    }\n",
       "</style>\n",
       "<table border=\"1\" class=\"dataframe\">\n",
       "  <thead>\n",
       "    <tr style=\"text-align: right;\">\n",
       "      <th></th>\n",
       "      <th>id</th>\n",
       "      <th>created_utc</th>\n",
       "      <th>title</th>\n",
       "      <th>self_text</th>\n",
       "      <th>comments</th>\n",
       "      <th>score</th>\n",
       "      <th>upvote_ratio</th>\n",
       "      <th>subreddit</th>\n",
       "    </tr>\n",
       "  </thead>\n",
       "  <tbody>\n",
       "    <tr>\n",
       "      <th>0</th>\n",
       "      <td>uw3f46</td>\n",
       "      <td>1.653321e+09</td>\n",
       "      <td>I feel attacked.</td>\n",
       "      <td>NaN</td>\n",
       "      <td>793</td>\n",
       "      <td>63651</td>\n",
       "      <td>0.94</td>\n",
       "      <td>houseplants</td>\n",
       "    </tr>\n",
       "    <tr>\n",
       "      <th>1</th>\n",
       "      <td>v4z9xu</td>\n",
       "      <td>1.654380e+09</td>\n",
       "      <td>The liberals are trying to make my plants gay!!</td>\n",
       "      <td>NaN</td>\n",
       "      <td>1281</td>\n",
       "      <td>54217</td>\n",
       "      <td>0.82</td>\n",
       "      <td>houseplants</td>\n",
       "    </tr>\n",
       "    <tr>\n",
       "      <th>2</th>\n",
       "      <td>q0hqvn</td>\n",
       "      <td>1.633268e+09</td>\n",
       "      <td>This was supposed to be a plant progress post ...</td>\n",
       "      <td>NaN</td>\n",
       "      <td>572</td>\n",
       "      <td>45198</td>\n",
       "      <td>0.96</td>\n",
       "      <td>houseplants</td>\n",
       "    </tr>\n",
       "    <tr>\n",
       "      <th>3</th>\n",
       "      <td>i5rplr</td>\n",
       "      <td>1.596855e+09</td>\n",
       "      <td>My grandpa made me a plant stand 💖</td>\n",
       "      <td>NaN</td>\n",
       "      <td>451</td>\n",
       "      <td>40218</td>\n",
       "      <td>0.96</td>\n",
       "      <td>houseplants</td>\n",
       "    </tr>\n",
       "    <tr>\n",
       "      <th>4</th>\n",
       "      <td>lkjvss</td>\n",
       "      <td>1.613414e+09</td>\n",
       "      <td>I let my Golden Pothos get outta hand for just...</td>\n",
       "      <td>NaN</td>\n",
       "      <td>593</td>\n",
       "      <td>39723</td>\n",
       "      <td>0.98</td>\n",
       "      <td>houseplants</td>\n",
       "    </tr>\n",
       "  </tbody>\n",
       "</table>\n",
       "</div>"
      ],
      "text/plain": [
       "       id   created_utc                                              title  \\\n",
       "0  uw3f46  1.653321e+09                                   I feel attacked.   \n",
       "1  v4z9xu  1.654380e+09    The liberals are trying to make my plants gay!!   \n",
       "2  q0hqvn  1.633268e+09  This was supposed to be a plant progress post ...   \n",
       "3  i5rplr  1.596855e+09                 My grandpa made me a plant stand 💖   \n",
       "4  lkjvss  1.613414e+09  I let my Golden Pothos get outta hand for just...   \n",
       "\n",
       "  self_text  comments  score  upvote_ratio    subreddit  \n",
       "0       NaN       793  63651          0.94  houseplants  \n",
       "1       NaN      1281  54217          0.82  houseplants  \n",
       "2       NaN       572  45198          0.96  houseplants  \n",
       "3       NaN       451  40218          0.96  houseplants  \n",
       "4       NaN       593  39723          0.98  houseplants  "
      ]
     },
     "execution_count": 62,
     "metadata": {},
     "output_type": "execute_result"
    }
   ],
   "source": [
    "houseplants.head()"
   ]
  },
  {
   "cell_type": "code",
   "execution_count": 63,
   "id": "25b8e730-2234-455c-b2a1-46f2ebabc9bb",
   "metadata": {
    "tags": []
   },
   "outputs": [
    {
     "data": {
      "text/html": [
       "<div>\n",
       "<style scoped>\n",
       "    .dataframe tbody tr th:only-of-type {\n",
       "        vertical-align: middle;\n",
       "    }\n",
       "\n",
       "    .dataframe tbody tr th {\n",
       "        vertical-align: top;\n",
       "    }\n",
       "\n",
       "    .dataframe thead th {\n",
       "        text-align: right;\n",
       "    }\n",
       "</style>\n",
       "<table border=\"1\" class=\"dataframe\">\n",
       "  <thead>\n",
       "    <tr style=\"text-align: right;\">\n",
       "      <th></th>\n",
       "      <th>id</th>\n",
       "      <th>created_utc</th>\n",
       "      <th>title</th>\n",
       "      <th>self_text</th>\n",
       "      <th>comments</th>\n",
       "      <th>score</th>\n",
       "      <th>upvote_ratio</th>\n",
       "      <th>subreddit</th>\n",
       "    </tr>\n",
       "  </thead>\n",
       "  <tbody>\n",
       "    <tr>\n",
       "      <th>0</th>\n",
       "      <td>7eksjh</td>\n",
       "      <td>1.511295e+09</td>\n",
       "      <td>Join the Battle for Net Neutrality! Don't let ...</td>\n",
       "      <td>NaN</td>\n",
       "      <td>460</td>\n",
       "      <td>76139</td>\n",
       "      <td>0.87</td>\n",
       "      <td>gardening</td>\n",
       "    </tr>\n",
       "    <tr>\n",
       "      <th>1</th>\n",
       "      <td>7ojhzl</td>\n",
       "      <td>1.515249e+09</td>\n",
       "      <td>Dragon fruits on my rooftop garden</td>\n",
       "      <td>NaN</td>\n",
       "      <td>1202</td>\n",
       "      <td>52741</td>\n",
       "      <td>0.94</td>\n",
       "      <td>gardening</td>\n",
       "    </tr>\n",
       "    <tr>\n",
       "      <th>2</th>\n",
       "      <td>6xg9g5</td>\n",
       "      <td>1.504289e+09</td>\n",
       "      <td>My grandpa says we \"need to get the word out\" ...</td>\n",
       "      <td>NaN</td>\n",
       "      <td>947</td>\n",
       "      <td>46569</td>\n",
       "      <td>0.93</td>\n",
       "      <td>gardening</td>\n",
       "    </tr>\n",
       "    <tr>\n",
       "      <th>3</th>\n",
       "      <td>8lbiol</td>\n",
       "      <td>1.527008e+09</td>\n",
       "      <td>I'm having trouble identifying this plant</td>\n",
       "      <td>NaN</td>\n",
       "      <td>358</td>\n",
       "      <td>32472</td>\n",
       "      <td>0.92</td>\n",
       "      <td>gardening</td>\n",
       "    </tr>\n",
       "    <tr>\n",
       "      <th>4</th>\n",
       "      <td>8vkf9g</td>\n",
       "      <td>1.530552e+09</td>\n",
       "      <td>I used to sit in the desert of Afghanistan eat...</td>\n",
       "      <td>NaN</td>\n",
       "      <td>741</td>\n",
       "      <td>32425</td>\n",
       "      <td>0.87</td>\n",
       "      <td>gardening</td>\n",
       "    </tr>\n",
       "  </tbody>\n",
       "</table>\n",
       "</div>"
      ],
      "text/plain": [
       "       id   created_utc                                              title  \\\n",
       "0  7eksjh  1.511295e+09  Join the Battle for Net Neutrality! Don't let ...   \n",
       "1  7ojhzl  1.515249e+09                 Dragon fruits on my rooftop garden   \n",
       "2  6xg9g5  1.504289e+09  My grandpa says we \"need to get the word out\" ...   \n",
       "3  8lbiol  1.527008e+09          I'm having trouble identifying this plant   \n",
       "4  8vkf9g  1.530552e+09  I used to sit in the desert of Afghanistan eat...   \n",
       "\n",
       "  self_text  comments  score  upvote_ratio  subreddit  \n",
       "0       NaN       460  76139          0.87  gardening  \n",
       "1       NaN      1202  52741          0.94  gardening  \n",
       "2       NaN       947  46569          0.93  gardening  \n",
       "3       NaN       358  32472          0.92  gardening  \n",
       "4       NaN       741  32425          0.87  gardening  "
      ]
     },
     "execution_count": 63,
     "metadata": {},
     "output_type": "execute_result"
    }
   ],
   "source": [
    "gardening.head()"
   ]
  },
  {
   "cell_type": "code",
   "execution_count": 64,
   "id": "4d9f3183-73e6-4288-81d6-61ebaadc0175",
   "metadata": {
    "tags": []
   },
   "outputs": [],
   "source": [
    "# Concatenation\n",
    "subs = pd.concat([houseplants, gardening], axis=0)"
   ]
  },
  {
   "cell_type": "code",
   "execution_count": 65,
   "id": "7c934404-4f81-4925-9a35-a8c9dd59812c",
   "metadata": {
    "tags": []
   },
   "outputs": [
    {
     "data": {
      "text/html": [
       "<div>\n",
       "<style scoped>\n",
       "    .dataframe tbody tr th:only-of-type {\n",
       "        vertical-align: middle;\n",
       "    }\n",
       "\n",
       "    .dataframe tbody tr th {\n",
       "        vertical-align: top;\n",
       "    }\n",
       "\n",
       "    .dataframe thead th {\n",
       "        text-align: right;\n",
       "    }\n",
       "</style>\n",
       "<table border=\"1\" class=\"dataframe\">\n",
       "  <thead>\n",
       "    <tr style=\"text-align: right;\">\n",
       "      <th></th>\n",
       "      <th>id</th>\n",
       "      <th>created_utc</th>\n",
       "      <th>title</th>\n",
       "      <th>self_text</th>\n",
       "      <th>comments</th>\n",
       "      <th>score</th>\n",
       "      <th>upvote_ratio</th>\n",
       "      <th>subreddit</th>\n",
       "    </tr>\n",
       "  </thead>\n",
       "  <tbody>\n",
       "    <tr>\n",
       "      <th>0</th>\n",
       "      <td>uw3f46</td>\n",
       "      <td>1.653321e+09</td>\n",
       "      <td>I feel attacked.</td>\n",
       "      <td>NaN</td>\n",
       "      <td>793</td>\n",
       "      <td>63651</td>\n",
       "      <td>0.94</td>\n",
       "      <td>houseplants</td>\n",
       "    </tr>\n",
       "    <tr>\n",
       "      <th>1</th>\n",
       "      <td>v4z9xu</td>\n",
       "      <td>1.654380e+09</td>\n",
       "      <td>The liberals are trying to make my plants gay!!</td>\n",
       "      <td>NaN</td>\n",
       "      <td>1281</td>\n",
       "      <td>54217</td>\n",
       "      <td>0.82</td>\n",
       "      <td>houseplants</td>\n",
       "    </tr>\n",
       "    <tr>\n",
       "      <th>2</th>\n",
       "      <td>q0hqvn</td>\n",
       "      <td>1.633268e+09</td>\n",
       "      <td>This was supposed to be a plant progress post ...</td>\n",
       "      <td>NaN</td>\n",
       "      <td>572</td>\n",
       "      <td>45198</td>\n",
       "      <td>0.96</td>\n",
       "      <td>houseplants</td>\n",
       "    </tr>\n",
       "    <tr>\n",
       "      <th>3</th>\n",
       "      <td>i5rplr</td>\n",
       "      <td>1.596855e+09</td>\n",
       "      <td>My grandpa made me a plant stand 💖</td>\n",
       "      <td>NaN</td>\n",
       "      <td>451</td>\n",
       "      <td>40218</td>\n",
       "      <td>0.96</td>\n",
       "      <td>houseplants</td>\n",
       "    </tr>\n",
       "    <tr>\n",
       "      <th>4</th>\n",
       "      <td>lkjvss</td>\n",
       "      <td>1.613414e+09</td>\n",
       "      <td>I let my Golden Pothos get outta hand for just...</td>\n",
       "      <td>NaN</td>\n",
       "      <td>593</td>\n",
       "      <td>39723</td>\n",
       "      <td>0.98</td>\n",
       "      <td>houseplants</td>\n",
       "    </tr>\n",
       "  </tbody>\n",
       "</table>\n",
       "</div>"
      ],
      "text/plain": [
       "       id   created_utc                                              title  \\\n",
       "0  uw3f46  1.653321e+09                                   I feel attacked.   \n",
       "1  v4z9xu  1.654380e+09    The liberals are trying to make my plants gay!!   \n",
       "2  q0hqvn  1.633268e+09  This was supposed to be a plant progress post ...   \n",
       "3  i5rplr  1.596855e+09                 My grandpa made me a plant stand 💖   \n",
       "4  lkjvss  1.613414e+09  I let my Golden Pothos get outta hand for just...   \n",
       "\n",
       "  self_text  comments  score  upvote_ratio    subreddit  \n",
       "0       NaN       793  63651          0.94  houseplants  \n",
       "1       NaN      1281  54217          0.82  houseplants  \n",
       "2       NaN       572  45198          0.96  houseplants  \n",
       "3       NaN       451  40218          0.96  houseplants  \n",
       "4       NaN       593  39723          0.98  houseplants  "
      ]
     },
     "execution_count": 65,
     "metadata": {},
     "output_type": "execute_result"
    }
   ],
   "source": [
    "subs.head()"
   ]
  },
  {
   "cell_type": "code",
   "execution_count": 66,
   "id": "11af5133-589d-4b59-9b4d-78210a3f139d",
   "metadata": {
    "tags": []
   },
   "outputs": [
    {
     "data": {
      "text/plain": [
       "(12052, 8)"
      ]
     },
     "execution_count": 66,
     "metadata": {},
     "output_type": "execute_result"
    }
   ],
   "source": [
    "subs.shape"
   ]
  },
  {
   "cell_type": "code",
   "execution_count": 67,
   "id": "3aeb2a19-f46d-4510-ba3d-035348496498",
   "metadata": {
    "tags": []
   },
   "outputs": [
    {
     "data": {
      "text/plain": [
       "2781"
      ]
     },
     "execution_count": 67,
     "metadata": {},
     "output_type": "execute_result"
    }
   ],
   "source": [
    "subs.duplicated().sum()"
   ]
  },
  {
   "cell_type": "code",
   "execution_count": 68,
   "id": "2f2a28e3-c4dd-448b-b8b7-80c83cb435a5",
   "metadata": {
    "tags": []
   },
   "outputs": [],
   "source": [
    "# Drop duplicates\n",
    "subs.drop_duplicates(inplace=True)"
   ]
  },
  {
   "cell_type": "code",
   "execution_count": 69,
   "id": "9fab5b1f-90d4-470e-b858-50334fe7124b",
   "metadata": {
    "tags": []
   },
   "outputs": [
    {
     "data": {
      "text/plain": [
       "(9271, 8)"
      ]
     },
     "execution_count": 69,
     "metadata": {},
     "output_type": "execute_result"
    }
   ],
   "source": [
    "subs.shape"
   ]
  },
  {
   "cell_type": "code",
   "execution_count": 70,
   "id": "7114e60b-acd5-4eee-89b4-f408e1aefa7b",
   "metadata": {
    "tags": []
   },
   "outputs": [
    {
     "data": {
      "text/plain": [
       "id                 0\n",
       "created_utc        0\n",
       "title              0\n",
       "self_text       5509\n",
       "comments           0\n",
       "score              0\n",
       "upvote_ratio       0\n",
       "subreddit          0\n",
       "dtype: int64"
      ]
     },
     "execution_count": 70,
     "metadata": {},
     "output_type": "execute_result"
    }
   ],
   "source": [
    "subs.isnull().sum()"
   ]
  },
  {
   "cell_type": "code",
   "execution_count": 71,
   "id": "d7f26eae-97df-4a0d-99e8-65ecc69d7edb",
   "metadata": {
    "tags": []
   },
   "outputs": [],
   "source": [
    "# Fill null\n",
    "subs['self_text'].fillna('no_text', inplace=True)"
   ]
  },
  {
   "cell_type": "code",
   "execution_count": 72,
   "id": "f3b3c521-b8c0-4f85-a99c-8d0c61de039b",
   "metadata": {},
   "outputs": [],
   "source": [
    "#dummifying subreddit column. houseplants: 1, gardening: 0\n",
    "subs = pd.get_dummies(subs, columns=['subreddit'], drop_first=True, dtype=int)"
   ]
  },
  {
   "cell_type": "code",
   "execution_count": 73,
   "id": "ac884561-cf9b-40f2-bbfc-fc2384e806fa",
   "metadata": {},
   "outputs": [],
   "source": [
    "subs.rename(columns={'subreddit_houseplants' : 'subreddit'}, inplace=True)"
   ]
  },
  {
   "cell_type": "code",
   "execution_count": 74,
   "id": "8c694f92-7411-46a2-8fba-a3be3bfd94f8",
   "metadata": {
    "tags": []
   },
   "outputs": [],
   "source": [
    "subs.to_csv('../data/data_cleaned/plants.csv', index=False)"
   ]
  }
 ],
 "metadata": {
  "kernelspec": {
   "display_name": "Python 3 (ipykernel)",
   "language": "python",
   "name": "python3"
  },
  "language_info": {
   "codemirror_mode": {
    "name": "ipython",
    "version": 3
   },
   "file_extension": ".py",
   "mimetype": "text/x-python",
   "name": "python",
   "nbconvert_exporter": "python",
   "pygments_lexer": "ipython3",
   "version": "3.11.5"
  }
 },
 "nbformat": 4,
 "nbformat_minor": 5
}
