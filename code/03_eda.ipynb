{
 "cells": [
  {
   "cell_type": "markdown",
   "id": "db548c63-a04a-4959-9a49-0212aa602882",
   "metadata": {},
   "source": [
    "# EDA"
   ]
  },
  {
   "cell_type": "code",
   "execution_count": null,
   "id": "ca2e9f14-8599-466d-9440-bc8ddd0ba84f",
   "metadata": {
    "tags": []
   },
   "outputs": [],
   "source": [
    "import pandas as pd\n",
    "import numpy as np\n",
    "import seaborn as sns\n",
    "\n",
    "from sklearn.feature_extraction.text import CountVectorizer, TfidfVectorizer"
   ]
  },
  {
   "cell_type": "code",
   "execution_count": null,
   "id": "e234a08d-7456-4726-88d3-b51dcb627d08",
   "metadata": {
    "tags": []
   },
   "outputs": [],
   "source": [
    "plants = pd.read_csv('../data/data_cleaned/plants.csv')"
   ]
  },
  {
   "cell_type": "code",
   "execution_count": null,
   "id": "a9cf0e18-1d2b-41ab-b35a-da704b7e4a0f",
   "metadata": {
    "tags": []
   },
   "outputs": [],
   "source": [
    "plants.head()"
   ]
  },
  {
   "cell_type": "code",
   "execution_count": null,
   "id": "685fbe86-3e79-4d07-80fb-13d74da6b71b",
   "metadata": {
    "tags": []
   },
   "outputs": [],
   "source": [
    "sns.heatmap(plants[['comments', 'score', 'upvote_ratio', 'subreddit']].corr(), cmap='coolwarm', fmt=\".2f\", vmin=-1, annot=True);"
   ]
  },
  {
   "cell_type": "code",
   "execution_count": null,
   "id": "288313da-ad39-4322-b20a-8a3ea9446580",
   "metadata": {
    "tags": []
   },
   "outputs": [],
   "source": [
    "cvec = CountVectorizer(\n",
    "    max_features=5_000,\n",
    "    min_df=2,\n",
    "    max_df=.9,\n",
    "    ngram_range=(1, 2),\n",
    "    stop_words='english'\n",
    ")"
   ]
  },
  {
   "cell_type": "code",
   "execution_count": null,
   "id": "ab225790-ee8c-413f-9134-3ea1e4afe162",
   "metadata": {
    "tags": []
   },
   "outputs": [],
   "source": [
    "title_cvec = cvec.fit_transform(plants['title'])"
   ]
  },
  {
   "cell_type": "code",
   "execution_count": null,
   "id": "7c69dbfe-5b2e-4bd6-8d2f-8a001ca71635",
   "metadata": {
    "tags": []
   },
   "outputs": [],
   "source": [
    "title_cvec_df = pd.DataFrame(title_cvec.toarray(), columns=cvec.get_feature_names_out())"
   ]
  },
  {
   "cell_type": "code",
   "execution_count": null,
   "id": "15e8691e-abb1-4073-80bd-8e649c35fbff",
   "metadata": {
    "tags": []
   },
   "outputs": [],
   "source": [
    "title_cvec_df['title'] = plants['title']"
   ]
  },
  {
   "cell_type": "code",
   "execution_count": null,
   "id": "92cc2c41-ad08-4f1c-b2cc-f0eb7bdead70",
   "metadata": {
    "tags": []
   },
   "outputs": [],
   "source": [
    "title_cvec_df.set_index('title', inplace=True)"
   ]
  },
  {
   "cell_type": "code",
   "execution_count": null,
   "id": "5266ce5c-1f63-4503-b478-ae94e043c5f8",
   "metadata": {
    "tags": []
   },
   "outputs": [],
   "source": [
    "title_cvec_df.head()"
   ]
  },
  {
   "cell_type": "code",
   "execution_count": null,
   "id": "bb90d2bd-3496-4664-8695-eec7164794c4",
   "metadata": {
    "tags": []
   },
   "outputs": [],
   "source": [
    "word_counts = title_cvec_df.sum().sort_values(ascending=False)"
   ]
  },
  {
   "cell_type": "code",
   "execution_count": null,
   "id": "b553f6f3-2517-497a-b8fb-43ca6f8e6fc6",
   "metadata": {
    "tags": []
   },
   "outputs": [],
   "source": [
    "top_words = word_counts.head(15)"
   ]
  },
  {
   "cell_type": "code",
   "execution_count": null,
   "id": "20cf457a-8849-4d6d-aad1-b897e677c774",
   "metadata": {
    "tags": []
   },
   "outputs": [],
   "source": [
    "top_words"
   ]
  },
  {
   "cell_type": "code",
   "execution_count": null,
   "id": "476c40af-d0d6-4cc1-b114-68c3f58d3115",
   "metadata": {
    "tags": []
   },
   "outputs": [],
   "source": [
    "title_cvec_df.sum().sort_values(ascending=False).head(10).plot(kind='barh')"
   ]
  },
  {
   "cell_type": "code",
   "execution_count": null,
   "id": "5eb97d6c-a997-4687-ba0c-6586df920660",
   "metadata": {
    "tags": []
   },
   "outputs": [],
   "source": [
    "title_cvec_df.reset_index(inplace=True)"
   ]
  },
  {
   "cell_type": "code",
   "execution_count": null,
   "id": "0c7e0383-7a06-4bd5-bd69-29f8a7d1f626",
   "metadata": {
    "tags": []
   },
   "outputs": [],
   "source": [
    "title_and_subreddit = pd.concat([title_cvec_df, plants['subreddit']], axis=1)"
   ]
  },
  {
   "cell_type": "code",
   "execution_count": null,
   "id": "d3e3526e-8aa0-4964-8034-bc3a11a290a6",
   "metadata": {
    "tags": []
   },
   "outputs": [],
   "source": [
    "title_and_subreddit.set_index('title', inplace=True)"
   ]
  },
  {
   "cell_type": "code",
   "execution_count": null,
   "id": "d6b4a69b-6ab1-460f-aeb4-6b8dbbc3eb14",
   "metadata": {
    "tags": []
   },
   "outputs": [],
   "source": [
    "title_and_subreddit.head()"
   ]
  },
  {
   "cell_type": "code",
   "execution_count": null,
   "id": "69e17405-65b8-44b7-a5b3-76a114f8577f",
   "metadata": {},
   "outputs": [],
   "source": [
    "title_and_subreddit = title_and_subreddit.drop_duplicates(subset='title')"
   ]
  },
  {
   "cell_type": "code",
   "execution_count": null,
   "id": "a184ae98-164a-4020-96c8-fd39fbd62acf",
   "metadata": {
    "tags": []
   },
   "outputs": [],
   "source": [
    "housplants_posts = title_and_subreddit[title_and_subreddit['subreddit'] == 1]"
   ]
  },
  {
   "cell_type": "code",
   "execution_count": null,
   "id": "40db3f42-9f00-4879-8a22-dc81b25cb7d6",
   "metadata": {
    "tags": []
   },
   "outputs": [],
   "source": [
    "gardinging_posts = title_and_subreddit[title_and_subreddit['subreddit'] == 0].reset_index(drop=True)"
   ]
  }
 ],
 "metadata": {
  "kernelspec": {
   "display_name": "Python 3 (ipykernel)",
   "language": "python",
   "name": "python3"
  },
  "language_info": {
   "codemirror_mode": {
    "name": "ipython",
    "version": 3
   },
   "file_extension": ".py",
   "mimetype": "text/x-python",
   "name": "python",
   "nbconvert_exporter": "python",
   "pygments_lexer": "ipython3",
   "version": "3.11.5"
  }
 },
 "nbformat": 4,
 "nbformat_minor": 5
}
