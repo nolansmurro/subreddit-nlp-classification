{
 "cells": [
  {
   "cell_type": "markdown",
   "id": "9cdb54af-5b36-45e2-882f-1441c4c525b9",
   "metadata": {},
   "source": [
    "# Model 1 - Count Vectorization / Logistic Regression"
   ]
  },
  {
   "cell_type": "code",
   "execution_count": 37,
   "id": "45b4168a-3fd7-4e7e-a099-5b63fffa7f62",
   "metadata": {
    "tags": []
   },
   "outputs": [],
   "source": [
    "import pandas as pd\n",
    "import numpy as np\n",
    "import matplotlib.pyplot as plt\n",
    "\n",
    "from sklearn.model_selection import train_test_split, GridSearchCV\n",
    "from sklearn.linear_model import LogisticRegression\n",
    "from sklearn.pipeline import Pipeline\n",
    "\n",
    "from sklearn.metrics import confusion_matrix, ConfusionMatrixDisplay\n",
    "from sklearn.feature_extraction.text import CountVectorizer\n",
    "\n",
    "pd.set_option('display.max_colwidth', None)"
   ]
  },
  {
   "cell_type": "code",
   "execution_count": 2,
   "id": "d42aba35-e36a-4dab-ac19-fc5de16548d0",
   "metadata": {
    "tags": []
   },
   "outputs": [],
   "source": [
    "plants = pd.read_csv('../data/data_cleaned/plants.csv')"
   ]
  },
  {
   "cell_type": "code",
   "execution_count": 3,
   "id": "230feebd-322c-4fc5-b316-35fffd11db42",
   "metadata": {
    "tags": []
   },
   "outputs": [
    {
     "data": {
      "text/html": [
       "<div>\n",
       "<style scoped>\n",
       "    .dataframe tbody tr th:only-of-type {\n",
       "        vertical-align: middle;\n",
       "    }\n",
       "\n",
       "    .dataframe tbody tr th {\n",
       "        vertical-align: top;\n",
       "    }\n",
       "\n",
       "    .dataframe thead th {\n",
       "        text-align: right;\n",
       "    }\n",
       "</style>\n",
       "<table border=\"1\" class=\"dataframe\">\n",
       "  <thead>\n",
       "    <tr style=\"text-align: right;\">\n",
       "      <th></th>\n",
       "      <th>id</th>\n",
       "      <th>created_utc</th>\n",
       "      <th>title</th>\n",
       "      <th>self_text</th>\n",
       "      <th>comments</th>\n",
       "      <th>score</th>\n",
       "      <th>upvote_ratio</th>\n",
       "      <th>subreddit</th>\n",
       "    </tr>\n",
       "  </thead>\n",
       "  <tbody>\n",
       "    <tr>\n",
       "      <th>0</th>\n",
       "      <td>uw3f46</td>\n",
       "      <td>1.653321e+09</td>\n",
       "      <td>I feel attacked.</td>\n",
       "      <td>no_text</td>\n",
       "      <td>793</td>\n",
       "      <td>63651</td>\n",
       "      <td>0.94</td>\n",
       "      <td>1</td>\n",
       "    </tr>\n",
       "    <tr>\n",
       "      <th>1</th>\n",
       "      <td>v4z9xu</td>\n",
       "      <td>1.654380e+09</td>\n",
       "      <td>The liberals are trying to make my plants gay!!</td>\n",
       "      <td>no_text</td>\n",
       "      <td>1281</td>\n",
       "      <td>54217</td>\n",
       "      <td>0.82</td>\n",
       "      <td>1</td>\n",
       "    </tr>\n",
       "    <tr>\n",
       "      <th>2</th>\n",
       "      <td>q0hqvn</td>\n",
       "      <td>1.633268e+09</td>\n",
       "      <td>This was supposed to be a plant progress post showing off my oxalis but Henk stole the show</td>\n",
       "      <td>no_text</td>\n",
       "      <td>572</td>\n",
       "      <td>45198</td>\n",
       "      <td>0.96</td>\n",
       "      <td>1</td>\n",
       "    </tr>\n",
       "    <tr>\n",
       "      <th>3</th>\n",
       "      <td>i5rplr</td>\n",
       "      <td>1.596855e+09</td>\n",
       "      <td>My grandpa made me a plant stand 💖</td>\n",
       "      <td>no_text</td>\n",
       "      <td>451</td>\n",
       "      <td>40218</td>\n",
       "      <td>0.96</td>\n",
       "      <td>1</td>\n",
       "    </tr>\n",
       "    <tr>\n",
       "      <th>4</th>\n",
       "      <td>lkjvss</td>\n",
       "      <td>1.613414e+09</td>\n",
       "      <td>I let my Golden Pothos get outta hand for just this reason. It’s like a little jungle for him.</td>\n",
       "      <td>no_text</td>\n",
       "      <td>593</td>\n",
       "      <td>39723</td>\n",
       "      <td>0.98</td>\n",
       "      <td>1</td>\n",
       "    </tr>\n",
       "  </tbody>\n",
       "</table>\n",
       "</div>"
      ],
      "text/plain": [
       "       id   created_utc  \\\n",
       "0  uw3f46  1.653321e+09   \n",
       "1  v4z9xu  1.654380e+09   \n",
       "2  q0hqvn  1.633268e+09   \n",
       "3  i5rplr  1.596855e+09   \n",
       "4  lkjvss  1.613414e+09   \n",
       "\n",
       "                                                                                            title  \\\n",
       "0                                                                                I feel attacked.   \n",
       "1                                                 The liberals are trying to make my plants gay!!   \n",
       "2     This was supposed to be a plant progress post showing off my oxalis but Henk stole the show   \n",
       "3                                                              My grandpa made me a plant stand 💖   \n",
       "4  I let my Golden Pothos get outta hand for just this reason. It’s like a little jungle for him.   \n",
       "\n",
       "  self_text  comments  score  upvote_ratio  subreddit  \n",
       "0   no_text       793  63651          0.94          1  \n",
       "1   no_text      1281  54217          0.82          1  \n",
       "2   no_text       572  45198          0.96          1  \n",
       "3   no_text       451  40218          0.96          1  \n",
       "4   no_text       593  39723          0.98          1  "
      ]
     },
     "execution_count": 3,
     "metadata": {},
     "output_type": "execute_result"
    }
   ],
   "source": [
    "plants.head()"
   ]
  },
  {
   "cell_type": "code",
   "execution_count": 4,
   "id": "20270935-932f-49c8-ac59-6955fc20d590",
   "metadata": {
    "tags": []
   },
   "outputs": [
    {
     "data": {
      "text/plain": [
       "(9271, 8)"
      ]
     },
     "execution_count": 4,
     "metadata": {},
     "output_type": "execute_result"
    }
   ],
   "source": [
    "plants.shape"
   ]
  },
  {
   "cell_type": "code",
   "execution_count": 5,
   "id": "ca70a718-a5be-4567-9000-ff22432e289d",
   "metadata": {
    "tags": []
   },
   "outputs": [],
   "source": [
    "X = plants['title']\n",
    "y = plants['subreddit']"
   ]
  },
  {
   "cell_type": "code",
   "execution_count": 6,
   "id": "66b73c84-3c5c-46eb-8907-1b52647df3c5",
   "metadata": {
    "tags": []
   },
   "outputs": [
    {
     "data": {
      "text/plain": [
       "(9271,)"
      ]
     },
     "execution_count": 6,
     "metadata": {},
     "output_type": "execute_result"
    }
   ],
   "source": [
    "X.shape"
   ]
  },
  {
   "cell_type": "markdown",
   "id": "e5d4fb61-c38d-41e1-b101-4f13ebe4bc6b",
   "metadata": {},
   "source": [
    "### Train, Test, Split"
   ]
  },
  {
   "cell_type": "code",
   "execution_count": 7,
   "id": "ceb42eec-741f-4235-aa86-cd60257fa850",
   "metadata": {
    "tags": []
   },
   "outputs": [],
   "source": [
    "X_train, X_test, y_train, y_test = train_test_split(X, y, test_size=0.25, random_state=21)"
   ]
  },
  {
   "cell_type": "code",
   "execution_count": 8,
   "id": "82a649aa-438a-40cd-bf29-d29e995abefa",
   "metadata": {
    "tags": []
   },
   "outputs": [
    {
     "data": {
      "text/plain": [
       "(6953,)"
      ]
     },
     "execution_count": 8,
     "metadata": {},
     "output_type": "execute_result"
    }
   ],
   "source": [
    "X_train.shape"
   ]
  },
  {
   "cell_type": "markdown",
   "id": "1a70a704-2d89-41a9-99d1-ba6af0822dc1",
   "metadata": {},
   "source": [
    "### Custom Stop Words"
   ]
  },
  {
   "cell_type": "code",
   "execution_count": 9,
   "id": "939f012d-d835-4c7c-ae50-b1ab54444f9b",
   "metadata": {
    "tags": []
   },
   "outputs": [],
   "source": [
    "english_stop_words = list(CountVectorizer(stop_words='english').get_stop_words())"
   ]
  },
  {
   "cell_type": "code",
   "execution_count": 10,
   "id": "f0fe5bc8-ed8c-413c-84d3-a9c0be0cac67",
   "metadata": {
    "tags": []
   },
   "outputs": [],
   "source": [
    "custom_stop_words = ['ve', 'help', 'little']"
   ]
  },
  {
   "cell_type": "code",
   "execution_count": 11,
   "id": "c6e56638-21ff-4bbe-8d9a-7cc7b97cb173",
   "metadata": {
    "tags": []
   },
   "outputs": [],
   "source": [
    "all_stop_words = english_stop_words + custom_stop_words"
   ]
  },
  {
   "cell_type": "markdown",
   "id": "5900f4d4-da9f-490f-8238-e7a70896793d",
   "metadata": {},
   "source": [
    "### Benchmark Model"
   ]
  },
  {
   "cell_type": "code",
   "execution_count": 12,
   "id": "0b563ac7-2534-4850-9a64-c6dbf31cfaa9",
   "metadata": {
    "tags": []
   },
   "outputs": [],
   "source": [
    "cvec_bench = CountVectorizer(stop_words = 'english')"
   ]
  },
  {
   "cell_type": "code",
   "execution_count": 13,
   "id": "a42bb748-8d34-495b-b778-740f1b3ab885",
   "metadata": {
    "tags": []
   },
   "outputs": [],
   "source": [
    "X_train_df = pd.DataFrame(cvec_bench.fit_transform(X_train).todense(),\n",
    "                          columns=cvec_bench.get_feature_names_out())"
   ]
  },
  {
   "cell_type": "code",
   "execution_count": 14,
   "id": "2b2d2d27-9008-47e5-a8e0-f85c567eb911",
   "metadata": {
    "tags": []
   },
   "outputs": [
    {
     "data": {
      "image/png": "[encoded data removed]",
      "text/plain": [
       "<Figure size 640x480 with 1 Axes>"
      ]
     },
     "metadata": {},
     "output_type": "display_data"
    }
   ],
   "source": [
    "X_train_df.sum().sort_values(ascending=False).head(20).plot(kind='barh');"
   ]
  },
  {
   "cell_type": "code",
   "execution_count": 15,
   "id": "77cf5efc-d8d3-4eb1-98e2-f3a2f9973799",
   "metadata": {
    "tags": []
   },
   "outputs": [],
   "source": [
    "pipe_bench = Pipeline([\n",
    "    ('cvec_bench', CountVectorizer(stop_words=all_stop_words)),\n",
    "    ('log_reg_bench', LogisticRegression())\n",
    "])"
   ]
  },
  {
   "cell_type": "code",
   "execution_count": 16,
   "id": "5ed358eb-7ac3-4265-b911-0ca5f836631f",
   "metadata": {
    "tags": []
   },
   "outputs": [
    {
     "data": {
      "text/html": [
       "<style>#sk-container-id-1 {color: black;}#sk-container-id-1 pre{padding: 0;}#sk-container-id-1 div.sk-toggleable {background-color: white;}#sk-container-id-1 label.sk-toggleable__label {cursor: pointer;display: block;width: 100%;margin-bottom: 0;padding: 0.3em;box-sizing: border-box;text-align: center;}#sk-container-id-1 label.sk-toggleable__label-arrow:before {content: \"▸\";float: left;margin-right: 0.25em;color: #696969;}#sk-container-id-1 label.sk-toggleable__label-arrow:hover:before {color: black;}#sk-container-id-1 div.sk-estimator:hover label.sk-toggleable__label-arrow:before {color: black;}#sk-container-id-1 div.sk-toggleable__content {max-height: 0;max-width: 0;overflow: hidden;text-align: left;background-color: #f0f8ff;}#sk-container-id-1 div.sk-toggleable__content pre {margin: 0.2em;color: black;border-radius: 0.25em;background-color: #f0f8ff;}#sk-container-id-1 input.sk-toggleable__control:checked~div.sk-toggleable__content {max-height: 200px;max-width: 100%;overflow: auto;}#sk-container-id-1 input.sk-toggleable__control:checked~label.sk-toggleable__label-arrow:before {content: \"▾\";}#sk-container-id-1 div.sk-estimator input.sk-toggleable__control:checked~label.sk-toggleable__label {background-color: #d4ebff;}#sk-container-id-1 div.sk-label input.sk-toggleable__control:checked~label.sk-toggleable__label {background-color: #d4ebff;}#sk-container-id-1 input.sk-hidden--visually {border: 0;clip: rect(1px 1px 1px 1px);clip: rect(1px, 1px, 1px, 1px);height: 1px;margin: -1px;overflow: hidden;padding: 0;position: absolute;width: 1px;}#sk-container-id-1 div.sk-estimator {font-family: monospace;background-color: #f0f8ff;border: 1px dotted black;border-radius: 0.25em;box-sizing: border-box;margin-bottom: 0.5em;}#sk-container-id-1 div.sk-estimator:hover {background-color: #d4ebff;}#sk-container-id-1 div.sk-parallel-item::after {content: \"\";width: 100%;border-bottom: 1px solid gray;flex-grow: 1;}#sk-container-id-1 div.sk-label:hover label.sk-toggleable__label {background-color: #d4ebff;}#sk-container-id-1 div.sk-serial::before {content: \"\";position: absolute;border-left: 1px solid gray;box-sizing: border-box;top: 0;bottom: 0;left: 50%;z-index: 0;}#sk-container-id-1 div.sk-serial {display: flex;flex-direction: column;align-items: center;background-color: white;padding-right: 0.2em;padding-left: 0.2em;position: relative;}#sk-container-id-1 div.sk-item {position: relative;z-index: 1;}#sk-container-id-1 div.sk-parallel {display: flex;align-items: stretch;justify-content: center;background-color: white;position: relative;}#sk-container-id-1 div.sk-item::before, #sk-container-id-1 div.sk-parallel-item::before {content: \"\";position: absolute;border-left: 1px solid gray;box-sizing: border-box;top: 0;bottom: 0;left: 50%;z-index: -1;}#sk-container-id-1 div.sk-parallel-item {display: flex;flex-direction: column;z-index: 1;position: relative;background-color: white;}#sk-container-id-1 div.sk-parallel-item:first-child::after {align-self: flex-end;width: 50%;}#sk-container-id-1 div.sk-parallel-item:last-child::after {align-self: flex-start;width: 50%;}#sk-container-id-1 div.sk-parallel-item:only-child::after {width: 0;}#sk-container-id-1 div.sk-dashed-wrapped {border: 1px dashed gray;margin: 0 0.4em 0.5em 0.4em;box-sizing: border-box;padding-bottom: 0.4em;background-color: white;}#sk-container-id-1 div.sk-label label {font-family: monospace;font-weight: bold;display: inline-block;line-height: 1.2em;}#sk-container-id-1 div.sk-label-container {text-align: center;}#sk-container-id-1 div.sk-container {/* jupyter's `normalize.less` sets `[hidden] { display: none; }` but bootstrap.min.css set `[hidden] { display: none !important; }` so we also need the `!important` here to be able to override the default hidden behavior on the sphinx rendered scikit-learn.org. See: https://github.com/scikit-learn/scikit-learn/issues/21755 */display: inline-block !important;position: relative;}#sk-container-id-1 div.sk-text-repr-fallback {display: none;}</style><div id=\"sk-container-id-1\" class=\"sk-top-container\"><div class=\"sk-text-repr-fallback\"><pre>Pipeline(steps=[(&#x27;cvec_bench&#x27;,\n",
       "                 CountVectorizer(stop_words=[&#x27;see&#x27;, &#x27;name&#x27;, &#x27;must&#x27;, &#x27;under&#x27;,\n",
       "                                             &#x27;have&#x27;, &#x27;during&#x27;, &#x27;hereupon&#x27;,\n",
       "                                             &#x27;formerly&#x27;, &#x27;upon&#x27;, &#x27;several&#x27;,\n",
       "                                             &#x27;perhaps&#x27;, &#x27;than&#x27;, &#x27;towards&#x27;,\n",
       "                                             &#x27;however&#x27;, &#x27;who&#x27;, &#x27;through&#x27;,\n",
       "                                             &#x27;though&#x27;, &#x27;never&#x27;, &#x27;become&#x27;,\n",
       "                                             &#x27;across&#x27;, &#x27;describe&#x27;, &#x27;yours&#x27;,\n",
       "                                             &#x27;ever&#x27;, &#x27;whither&#x27;, &#x27;detail&#x27;, &#x27;can&#x27;,\n",
       "                                             &#x27;each&#x27;, &#x27;wherein&#x27;, &#x27;my&#x27;, &#x27;there&#x27;, ...])),\n",
       "                (&#x27;log_reg_bench&#x27;, LogisticRegression())])</pre><b>In a Jupyter environment, please rerun this cell to show the HTML representation or trust the notebook. <br />On GitHub, the HTML representation is unable to render, please try loading this page with nbviewer.org.</b></div><div class=\"sk-container\" hidden><div class=\"sk-item sk-dashed-wrapped\"><div class=\"sk-label-container\"><div class=\"sk-label sk-toggleable\"><input class=\"sk-toggleable__control sk-hidden--visually\" id=\"sk-estimator-id-1\" type=\"checkbox\" ><label for=\"sk-estimator-id-1\" class=\"sk-toggleable__label sk-toggleable__label-arrow\">Pipeline</label><div class=\"sk-toggleable__content\"><pre>Pipeline(steps=[(&#x27;cvec_bench&#x27;,\n",
       "                 CountVectorizer(stop_words=[&#x27;see&#x27;, &#x27;name&#x27;, &#x27;must&#x27;, &#x27;under&#x27;,\n",
       "                                             &#x27;have&#x27;, &#x27;during&#x27;, &#x27;hereupon&#x27;,\n",
       "                                             &#x27;formerly&#x27;, &#x27;upon&#x27;, &#x27;several&#x27;,\n",
       "                                             &#x27;perhaps&#x27;, &#x27;than&#x27;, &#x27;towards&#x27;,\n",
       "                                             &#x27;however&#x27;, &#x27;who&#x27;, &#x27;through&#x27;,\n",
       "                                             &#x27;though&#x27;, &#x27;never&#x27;, &#x27;become&#x27;,\n",
       "                                             &#x27;across&#x27;, &#x27;describe&#x27;, &#x27;yours&#x27;,\n",
       "                                             &#x27;ever&#x27;, &#x27;whither&#x27;, &#x27;detail&#x27;, &#x27;can&#x27;,\n",
       "                                             &#x27;each&#x27;, &#x27;wherein&#x27;, &#x27;my&#x27;, &#x27;there&#x27;, ...])),\n",
       "                (&#x27;log_reg_bench&#x27;, LogisticRegression())])</pre></div></div></div><div class=\"sk-serial\"><div class=\"sk-item\"><div class=\"sk-estimator sk-toggleable\"><input class=\"sk-toggleable__control sk-hidden--visually\" id=\"sk-estimator-id-2\" type=\"checkbox\" ><label for=\"sk-estimator-id-2\" class=\"sk-toggleable__label sk-toggleable__label-arrow\">CountVectorizer</label><div class=\"sk-toggleable__content\"><pre>CountVectorizer(stop_words=[&#x27;see&#x27;, &#x27;name&#x27;, &#x27;must&#x27;, &#x27;under&#x27;, &#x27;have&#x27;, &#x27;during&#x27;,\n",
       "                            &#x27;hereupon&#x27;, &#x27;formerly&#x27;, &#x27;upon&#x27;, &#x27;several&#x27;,\n",
       "                            &#x27;perhaps&#x27;, &#x27;than&#x27;, &#x27;towards&#x27;, &#x27;however&#x27;, &#x27;who&#x27;,\n",
       "                            &#x27;through&#x27;, &#x27;though&#x27;, &#x27;never&#x27;, &#x27;become&#x27;, &#x27;across&#x27;,\n",
       "                            &#x27;describe&#x27;, &#x27;yours&#x27;, &#x27;ever&#x27;, &#x27;whither&#x27;, &#x27;detail&#x27;,\n",
       "                            &#x27;can&#x27;, &#x27;each&#x27;, &#x27;wherein&#x27;, &#x27;my&#x27;, &#x27;there&#x27;, ...])</pre></div></div></div><div class=\"sk-item\"><div class=\"sk-estimator sk-toggleable\"><input class=\"sk-toggleable__control sk-hidden--visually\" id=\"sk-estimator-id-3\" type=\"checkbox\" ><label for=\"sk-estimator-id-3\" class=\"sk-toggleable__label sk-toggleable__label-arrow\">LogisticRegression</label><div class=\"sk-toggleable__content\"><pre>LogisticRegression()</pre></div></div></div></div></div></div></div>"
      ],
      "text/plain": [
       "Pipeline(steps=[('cvec_bench',\n",
       "                 CountVectorizer(stop_words=['see', 'name', 'must', 'under',\n",
       "                                             'have', 'during', 'hereupon',\n",
       "                                             'formerly', 'upon', 'several',\n",
       "                                             'perhaps', 'than', 'towards',\n",
       "                                             'however', 'who', 'through',\n",
       "                                             'though', 'never', 'become',\n",
       "                                             'across', 'describe', 'yours',\n",
       "                                             'ever', 'whither', 'detail', 'can',\n",
       "                                             'each', 'wherein', 'my', 'there', ...])),\n",
       "                ('log_reg_bench', LogisticRegression())])"
      ]
     },
     "execution_count": 16,
     "metadata": {},
     "output_type": "execute_result"
    }
   ],
   "source": [
    "pipe_bench.fit(X_train, y_train)"
   ]
  },
  {
   "cell_type": "code",
   "execution_count": 17,
   "id": "e7061970-2f1f-478c-afa3-0925d9d130ca",
   "metadata": {
    "tags": []
   },
   "outputs": [
    {
     "data": {
      "text/plain": [
       "0.9375809003307924"
      ]
     },
     "execution_count": 17,
     "metadata": {},
     "output_type": "execute_result"
    }
   ],
   "source": [
    "pipe_bench.score(X_train, y_train)"
   ]
  },
  {
   "cell_type": "code",
   "execution_count": 18,
   "id": "9caca9d7-e78b-4c52-86fb-77ce29682686",
   "metadata": {
    "tags": []
   },
   "outputs": [
    {
     "data": {
      "text/plain": [
       "0.8373597929249353"
      ]
     },
     "execution_count": 18,
     "metadata": {},
     "output_type": "execute_result"
    }
   ],
   "source": [
    "pipe_bench.score(X_test, y_test)"
   ]
  },
  {
   "cell_type": "code",
   "execution_count": 19,
   "id": "0af24e1e-0a6f-4f2f-96c9-6b337156276d",
   "metadata": {},
   "outputs": [
    {
     "data": {
      "text/plain": [
       "0.4891597454427785"
      ]
     },
     "execution_count": 19,
     "metadata": {},
     "output_type": "execute_result"
    }
   ],
   "source": [
    "1 - y.mean()"
   ]
  },
  {
   "cell_type": "code",
   "execution_count": 20,
   "id": "922cd56d-6876-4f26-9c55-045fb24e1229",
   "metadata": {
    "collapsed": true,
    "jupyter": {
     "outputs_hidden": true
    },
    "tags": []
   },
   "outputs": [
    {
     "data": {
      "text/plain": [
       "{'memory': None,\n",
       " 'steps': [('cvec_bench',\n",
       "   CountVectorizer(stop_words=['see', 'name', 'must', 'under', 'have', 'during',\n",
       "                               'hereupon', 'formerly', 'upon', 'several',\n",
       "                               'perhaps', 'than', 'towards', 'however', 'who',\n",
       "                               'through', 'though', 'never', 'become', 'across',\n",
       "                               'describe', 'yours', 'ever', 'whither', 'detail',\n",
       "                               'can', 'each', 'wherein', 'my', 'there', ...])),\n",
       "  ('log_reg_bench', LogisticRegression())],\n",
       " 'verbose': False,\n",
       " 'cvec_bench': CountVectorizer(stop_words=['see', 'name', 'must', 'under', 'have', 'during',\n",
       "                             'hereupon', 'formerly', 'upon', 'several',\n",
       "                             'perhaps', 'than', 'towards', 'however', 'who',\n",
       "                             'through', 'though', 'never', 'become', 'across',\n",
       "                             'describe', 'yours', 'ever', 'whither', 'detail',\n",
       "                             'can', 'each', 'wherein', 'my', 'there', ...]),\n",
       " 'log_reg_bench': LogisticRegression(),\n",
       " 'cvec_bench__analyzer': 'word',\n",
       " 'cvec_bench__binary': False,\n",
       " 'cvec_bench__decode_error': 'strict',\n",
       " 'cvec_bench__dtype': numpy.int64,\n",
       " 'cvec_bench__encoding': 'utf-8',\n",
       " 'cvec_bench__input': 'content',\n",
       " 'cvec_bench__lowercase': True,\n",
       " 'cvec_bench__max_df': 1.0,\n",
       " 'cvec_bench__max_features': None,\n",
       " 'cvec_bench__min_df': 1,\n",
       " 'cvec_bench__ngram_range': (1, 1),\n",
       " 'cvec_bench__preprocessor': None,\n",
       " 'cvec_bench__stop_words': ['see',\n",
       "  'name',\n",
       "  'must',\n",
       "  'under',\n",
       "  'have',\n",
       "  'during',\n",
       "  'hereupon',\n",
       "  'formerly',\n",
       "  'upon',\n",
       "  'several',\n",
       "  'perhaps',\n",
       "  'than',\n",
       "  'towards',\n",
       "  'however',\n",
       "  'who',\n",
       "  'through',\n",
       "  'though',\n",
       "  'never',\n",
       "  'become',\n",
       "  'across',\n",
       "  'describe',\n",
       "  'yours',\n",
       "  'ever',\n",
       "  'whither',\n",
       "  'detail',\n",
       "  'can',\n",
       "  'each',\n",
       "  'wherein',\n",
       "  'my',\n",
       "  'there',\n",
       "  'toward',\n",
       "  'thick',\n",
       "  'give',\n",
       "  'been',\n",
       "  'couldnt',\n",
       "  'in',\n",
       "  'seeming',\n",
       "  'eleven',\n",
       "  'keep',\n",
       "  'myself',\n",
       "  'some',\n",
       "  'was',\n",
       "  'everywhere',\n",
       "  'eight',\n",
       "  'too',\n",
       "  'beforehand',\n",
       "  'bottom',\n",
       "  'ours',\n",
       "  'down',\n",
       "  'whom',\n",
       "  'whole',\n",
       "  'take',\n",
       "  'hundred',\n",
       "  'least',\n",
       "  'somewhere',\n",
       "  'something',\n",
       "  'when',\n",
       "  'call',\n",
       "  'elsewhere',\n",
       "  'around',\n",
       "  'him',\n",
       "  'then',\n",
       "  'seem',\n",
       "  'un',\n",
       "  'otherwise',\n",
       "  'latter',\n",
       "  'hence',\n",
       "  'three',\n",
       "  'may',\n",
       "  'nobody',\n",
       "  'con',\n",
       "  'enough',\n",
       "  'should',\n",
       "  'this',\n",
       "  'could',\n",
       "  'thin',\n",
       "  'fire',\n",
       "  'our',\n",
       "  'while',\n",
       "  'cannot',\n",
       "  'yourselves',\n",
       "  'that',\n",
       "  'part',\n",
       "  'whenever',\n",
       "  'de',\n",
       "  'became',\n",
       "  'put',\n",
       "  'another',\n",
       "  'more',\n",
       "  'indeed',\n",
       "  'ourselves',\n",
       "  'one',\n",
       "  'someone',\n",
       "  'whence',\n",
       "  'over',\n",
       "  'her',\n",
       "  'which',\n",
       "  'its',\n",
       "  'nothing',\n",
       "  'show',\n",
       "  'am',\n",
       "  'throughout',\n",
       "  'a',\n",
       "  'between',\n",
       "  'without',\n",
       "  'had',\n",
       "  'fill',\n",
       "  'moreover',\n",
       "  'etc',\n",
       "  'twenty',\n",
       "  'wherever',\n",
       "  'of',\n",
       "  'above',\n",
       "  'further',\n",
       "  'amount',\n",
       "  'mine',\n",
       "  'they',\n",
       "  'would',\n",
       "  'anywhere',\n",
       "  'now',\n",
       "  'whatever',\n",
       "  'every',\n",
       "  'as',\n",
       "  'on',\n",
       "  'whereby',\n",
       "  'get',\n",
       "  'third',\n",
       "  'seemed',\n",
       "  'any',\n",
       "  'anyway',\n",
       "  'somehow',\n",
       "  'sometime',\n",
       "  'what',\n",
       "  'is',\n",
       "  'but',\n",
       "  'their',\n",
       "  'up',\n",
       "  'side',\n",
       "  'bill',\n",
       "  'about',\n",
       "  'besides',\n",
       "  'empty',\n",
       "  'mostly',\n",
       "  'rather',\n",
       "  'anyhow',\n",
       "  'co',\n",
       "  'itself',\n",
       "  'only',\n",
       "  'are',\n",
       "  'sixty',\n",
       "  'out',\n",
       "  'hers',\n",
       "  'whose',\n",
       "  'whereafter',\n",
       "  'interest',\n",
       "  'done',\n",
       "  'i',\n",
       "  'whereupon',\n",
       "  'even',\n",
       "  'hereafter',\n",
       "  'why',\n",
       "  'themselves',\n",
       "  'two',\n",
       "  'so',\n",
       "  'cry',\n",
       "  'be',\n",
       "  'she',\n",
       "  'nowhere',\n",
       "  'it',\n",
       "  'mill',\n",
       "  'and',\n",
       "  'afterwards',\n",
       "  'you',\n",
       "  'thru',\n",
       "  'please',\n",
       "  'where',\n",
       "  'noone',\n",
       "  'if',\n",
       "  'still',\n",
       "  'becoming',\n",
       "  'sometimes',\n",
       "  'being',\n",
       "  'none',\n",
       "  'an',\n",
       "  'we',\n",
       "  'system',\n",
       "  'has',\n",
       "  'before',\n",
       "  'again',\n",
       "  'fifteen',\n",
       "  'cant',\n",
       "  'from',\n",
       "  'those',\n",
       "  'not',\n",
       "  'below',\n",
       "  'other',\n",
       "  'nevertheless',\n",
       "  'everyone',\n",
       "  'at',\n",
       "  'whereas',\n",
       "  'almost',\n",
       "  'except',\n",
       "  'anything',\n",
       "  'latterly',\n",
       "  'last',\n",
       "  'seems',\n",
       "  'by',\n",
       "  'yet',\n",
       "  'for',\n",
       "  'yourself',\n",
       "  'himself',\n",
       "  'already',\n",
       "  'behind',\n",
       "  'within',\n",
       "  'amoungst',\n",
       "  'go',\n",
       "  'together',\n",
       "  'off',\n",
       "  'meanwhile',\n",
       "  'either',\n",
       "  'thereby',\n",
       "  'six',\n",
       "  'herself',\n",
       "  'me',\n",
       "  'beyond',\n",
       "  'might',\n",
       "  'twelve',\n",
       "  'or',\n",
       "  'find',\n",
       "  'therefore',\n",
       "  'front',\n",
       "  'the',\n",
       "  'back',\n",
       "  'his',\n",
       "  'own',\n",
       "  'against',\n",
       "  'well',\n",
       "  'will',\n",
       "  'move',\n",
       "  'therein',\n",
       "  'were',\n",
       "  'forty',\n",
       "  'these',\n",
       "  'four',\n",
       "  'alone',\n",
       "  'fifty',\n",
       "  'always',\n",
       "  'us',\n",
       "  'very',\n",
       "  'few',\n",
       "  'hasnt',\n",
       "  'most',\n",
       "  'onto',\n",
       "  'after',\n",
       "  'beside',\n",
       "  'until',\n",
       "  'everything',\n",
       "  'ie',\n",
       "  'next',\n",
       "  'how',\n",
       "  'among',\n",
       "  'he',\n",
       "  'often',\n",
       "  'amongst',\n",
       "  'herein',\n",
       "  'although',\n",
       "  'found',\n",
       "  'here',\n",
       "  'neither',\n",
       "  'via',\n",
       "  'namely',\n",
       "  'first',\n",
       "  'much',\n",
       "  'per',\n",
       "  'serious',\n",
       "  'thereupon',\n",
       "  'all',\n",
       "  'ltd',\n",
       "  'full',\n",
       "  'whoever',\n",
       "  'inc',\n",
       "  'thence',\n",
       "  'thus',\n",
       "  'such',\n",
       "  'five',\n",
       "  'them',\n",
       "  'anyone',\n",
       "  'less',\n",
       "  'sincere',\n",
       "  'becomes',\n",
       "  'eg',\n",
       "  'because',\n",
       "  'thereafter',\n",
       "  'nine',\n",
       "  'due',\n",
       "  'former',\n",
       "  'whether',\n",
       "  'hereby',\n",
       "  'nor',\n",
       "  're',\n",
       "  'same',\n",
       "  'ten',\n",
       "  'top',\n",
       "  'with',\n",
       "  'along',\n",
       "  'into',\n",
       "  'many',\n",
       "  'your',\n",
       "  'also',\n",
       "  'others',\n",
       "  'no',\n",
       "  'made',\n",
       "  'once',\n",
       "  'else',\n",
       "  'do',\n",
       "  'to',\n",
       "  'both',\n",
       "  'since',\n",
       "  've',\n",
       "  'help',\n",
       "  'little'],\n",
       " 'cvec_bench__strip_accents': None,\n",
       " 'cvec_bench__token_pattern': '(?u)\\\\b\\\\w\\\\w+\\\\b',\n",
       " 'cvec_bench__tokenizer': None,\n",
       " 'cvec_bench__vocabulary': None,\n",
       " 'log_reg_bench__C': 1.0,\n",
       " 'log_reg_bench__class_weight': None,\n",
       " 'log_reg_bench__dual': False,\n",
       " 'log_reg_bench__fit_intercept': True,\n",
       " 'log_reg_bench__intercept_scaling': 1,\n",
       " 'log_reg_bench__l1_ratio': None,\n",
       " 'log_reg_bench__max_iter': 100,\n",
       " 'log_reg_bench__multi_class': 'auto',\n",
       " 'log_reg_bench__n_jobs': None,\n",
       " 'log_reg_bench__penalty': 'l2',\n",
       " 'log_reg_bench__random_state': None,\n",
       " 'log_reg_bench__solver': 'lbfgs',\n",
       " 'log_reg_bench__tol': 0.0001,\n",
       " 'log_reg_bench__verbose': 0,\n",
       " 'log_reg_bench__warm_start': False}"
      ]
     },
     "execution_count": 20,
     "metadata": {},
     "output_type": "execute_result"
    }
   ],
   "source": [
    "pipe_bench.get_params()"
   ]
  },
  {
   "cell_type": "markdown",
   "id": "c2e219bc-371b-4b90-a9e1-5c0e7c42db0e",
   "metadata": {},
   "source": [
    "### Production Model"
   ]
  },
  {
   "cell_type": "code",
   "execution_count": 21,
   "id": "111ce503-cdcb-4071-96ef-f3056c8822aa",
   "metadata": {},
   "outputs": [],
   "source": [
    "pipe = Pipeline([\n",
    "    ('cvec', CountVectorizer(stop_words=all_stop_words)),\n",
    "    ('log_reg', LogisticRegression())\n",
    "])"
   ]
  },
  {
   "cell_type": "code",
   "execution_count": 22,
   "id": "cc223204-b5dd-4f60-a576-a1fe16ffd1af",
   "metadata": {
    "tags": []
   },
   "outputs": [],
   "source": [
    "pipe_params = {\n",
    "    'cvec__max_features': [None, 3_000, 5_000],\n",
    "    'cvec__min_df': [1, 2, 3],\n",
    "    'cvec__max_df': [.9, .95, 1],\n",
    "    'cvec__ngram_range': [(1,1), (1, 2)],\n",
    "    'cvec__stop_words': [None, 'english', all_stop_words]\n",
    "}"
   ]
  },
  {
   "cell_type": "code",
   "execution_count": 23,
   "id": "6c4abbe7-f87a-4901-b69c-cf54d72ce724",
   "metadata": {
    "tags": []
   },
   "outputs": [],
   "source": [
    "gs = GridSearchCV(pipe,\n",
    "                  param_grid = pipe_params,\n",
    "                  cv = 5)"
   ]
  },
  {
   "cell_type": "code",
   "execution_count": 24,
   "id": "b3bb70a8-9428-4a39-8bb6-b533c5d40d02",
   "metadata": {
    "tags": []
   },
   "outputs": [
    {
     "name": "stderr",
     "output_type": "stream",
     "text": [
      "/Users/nolan/anaconda3/lib/python3.11/site-packages/sklearn/model_selection/_validation.py:425: FitFailedWarning: \n",
      "180 fits failed out of a total of 810.\n",
      "The score on these train-test partitions for these parameters will be set to nan.\n",
      "If these failures are not expected, you can try to debug them by setting error_score='raise'.\n",
      "\n",
      "Below are more details about the failures:\n",
      "--------------------------------------------------------------------------------\n",
      "180 fits failed with the following error:\n",
      "Traceback (most recent call last):\n",
      "  File \"/Users/nolan/anaconda3/lib/python3.11/site-packages/sklearn/model_selection/_validation.py\", line 732, in _fit_and_score\n",
      "    estimator.fit(X_train, y_train, **fit_params)\n",
      "  File \"/Users/nolan/anaconda3/lib/python3.11/site-packages/sklearn/base.py\", line 1151, in wrapper\n",
      "    return fit_method(estimator, *args, **kwargs)\n",
      "           ^^^^^^^^^^^^^^^^^^^^^^^^^^^^^^^^^^^^^^\n",
      "  File \"/Users/nolan/anaconda3/lib/python3.11/site-packages/sklearn/pipeline.py\", line 416, in fit\n",
      "    Xt = self._fit(X, y, **fit_params_steps)\n",
      "         ^^^^^^^^^^^^^^^^^^^^^^^^^^^^^^^^^^^\n",
      "  File \"/Users/nolan/anaconda3/lib/python3.11/site-packages/sklearn/pipeline.py\", line 370, in _fit\n",
      "    X, fitted_transformer = fit_transform_one_cached(\n",
      "                            ^^^^^^^^^^^^^^^^^^^^^^^^^\n",
      "  File \"/Users/nolan/anaconda3/lib/python3.11/site-packages/joblib/memory.py\", line 349, in __call__\n",
      "    return self.func(*args, **kwargs)\n",
      "           ^^^^^^^^^^^^^^^^^^^^^^^^^^\n",
      "  File \"/Users/nolan/anaconda3/lib/python3.11/site-packages/sklearn/pipeline.py\", line 950, in _fit_transform_one\n",
      "    res = transformer.fit_transform(X, y, **fit_params)\n",
      "          ^^^^^^^^^^^^^^^^^^^^^^^^^^^^^^^^^^^^^^^^^^^^^\n",
      "  File \"/Users/nolan/anaconda3/lib/python3.11/site-packages/sklearn/base.py\", line 1151, in wrapper\n",
      "    return fit_method(estimator, *args, **kwargs)\n",
      "           ^^^^^^^^^^^^^^^^^^^^^^^^^^^^^^^^^^^^^^\n",
      "  File \"/Users/nolan/anaconda3/lib/python3.11/site-packages/sklearn/feature_extraction/text.py\", line 1393, in fit_transform\n",
      "    raise ValueError(\"max_df corresponds to < documents than min_df\")\n",
      "ValueError: max_df corresponds to < documents than min_df\n",
      "\n",
      "  warnings.warn(some_fits_failed_message, FitFailedWarning)\n",
      "/Users/nolan/anaconda3/lib/python3.11/site-packages/sklearn/model_selection/_search.py:976: UserWarning: One or more of the test scores are non-finite: [0.82439547 0.83388681 0.83446245 0.83244827 0.84136541 0.84194064\n",
      " 0.81950463 0.82784592 0.8279898  0.82727038 0.8311533  0.83216029\n",
      " 0.81288861 0.82180492 0.82238026 0.82324367 0.82223565 0.8236745\n",
      " 0.82022374 0.82856482 0.82899627 0.81418347 0.82324222 0.82424972\n",
      " 0.81979219 0.82784592 0.8279898  0.81533331 0.82324222 0.82482454\n",
      " 0.81288861 0.82180492 0.82238026 0.81547781 0.82223565 0.8236745\n",
      " 0.8223817  0.83216101 0.83374323 0.82166135 0.83115279 0.8295716\n",
      " 0.81950463 0.82784592 0.8279898  0.82338786 0.83000315 0.8304344\n",
      " 0.81288861 0.82180492 0.82238026 0.82266813 0.82223565 0.8236745\n",
      " 0.82439547 0.83388681 0.83446245 0.83244827 0.84136541 0.84194064\n",
      " 0.81950463 0.82784592 0.8279898  0.82727038 0.8311533  0.83216029\n",
      " 0.81288861 0.82180492 0.82238026 0.82324367 0.82223565 0.8236745\n",
      " 0.82022374 0.82856482 0.82899627 0.81418347 0.82324222 0.82424972\n",
      " 0.81979219 0.82784592 0.8279898  0.81533331 0.82324222 0.82482454\n",
      " 0.81288861 0.82180492 0.82238026 0.81547781 0.82223565 0.8236745\n",
      " 0.8223817  0.83216101 0.83374323 0.82166135 0.83115279 0.8295716\n",
      " 0.81950463 0.82784592 0.8279898  0.82338786 0.83000315 0.8304344\n",
      " 0.81288861 0.82180492 0.82238026 0.82266813 0.82223565 0.8236745\n",
      " 0.56651733 0.56651723 0.56651723 0.64015661 0.6299445  0.62908151\n",
      "        nan        nan        nan        nan        nan        nan\n",
      "        nan        nan        nan        nan        nan        nan\n",
      " 0.56651733 0.56651723 0.56651723 0.55242127 0.5426431  0.54177979\n",
      "        nan        nan        nan        nan        nan        nan\n",
      "        nan        nan        nan        nan        nan        nan\n",
      " 0.56651733 0.56651723 0.56651723 0.56838608 0.56076535 0.56148395\n",
      "        nan        nan        nan        nan        nan        nan\n",
      "        nan        nan        nan        nan        nan        nan]\n",
      "  warnings.warn(\n"
     ]
    },
    {
     "name": "stdout",
     "output_type": "stream",
     "text": [
      "CPU times: user 2min 23s, sys: 26 s, total: 2min 49s\n",
      "Wall time: 1min 55s\n"
     ]
    },
    {
     "data": {
      "text/html": [
       "<style>#sk-container-id-2 {color: black;}#sk-container-id-2 pre{padding: 0;}#sk-container-id-2 div.sk-toggleable {background-color: white;}#sk-container-id-2 label.sk-toggleable__label {cursor: pointer;display: block;width: 100%;margin-bottom: 0;padding: 0.3em;box-sizing: border-box;text-align: center;}#sk-container-id-2 label.sk-toggleable__label-arrow:before {content: \"▸\";float: left;margin-right: 0.25em;color: #696969;}#sk-container-id-2 label.sk-toggleable__label-arrow:hover:before {color: black;}#sk-container-id-2 div.sk-estimator:hover label.sk-toggleable__label-arrow:before {color: black;}#sk-container-id-2 div.sk-toggleable__content {max-height: 0;max-width: 0;overflow: hidden;text-align: left;background-color: #f0f8ff;}#sk-container-id-2 div.sk-toggleable__content pre {margin: 0.2em;color: black;border-radius: 0.25em;background-color: #f0f8ff;}#sk-container-id-2 input.sk-toggleable__control:checked~div.sk-toggleable__content {max-height: 200px;max-width: 100%;overflow: auto;}#sk-container-id-2 input.sk-toggleable__control:checked~label.sk-toggleable__label-arrow:before {content: \"▾\";}#sk-container-id-2 div.sk-estimator input.sk-toggleable__control:checked~label.sk-toggleable__label {background-color: #d4ebff;}#sk-container-id-2 div.sk-label input.sk-toggleable__control:checked~label.sk-toggleable__label {background-color: #d4ebff;}#sk-container-id-2 input.sk-hidden--visually {border: 0;clip: rect(1px 1px 1px 1px);clip: rect(1px, 1px, 1px, 1px);height: 1px;margin: -1px;overflow: hidden;padding: 0;position: absolute;width: 1px;}#sk-container-id-2 div.sk-estimator {font-family: monospace;background-color: #f0f8ff;border: 1px dotted black;border-radius: 0.25em;box-sizing: border-box;margin-bottom: 0.5em;}#sk-container-id-2 div.sk-estimator:hover {background-color: #d4ebff;}#sk-container-id-2 div.sk-parallel-item::after {content: \"\";width: 100%;border-bottom: 1px solid gray;flex-grow: 1;}#sk-container-id-2 div.sk-label:hover label.sk-toggleable__label {background-color: #d4ebff;}#sk-container-id-2 div.sk-serial::before {content: \"\";position: absolute;border-left: 1px solid gray;box-sizing: border-box;top: 0;bottom: 0;left: 50%;z-index: 0;}#sk-container-id-2 div.sk-serial {display: flex;flex-direction: column;align-items: center;background-color: white;padding-right: 0.2em;padding-left: 0.2em;position: relative;}#sk-container-id-2 div.sk-item {position: relative;z-index: 1;}#sk-container-id-2 div.sk-parallel {display: flex;align-items: stretch;justify-content: center;background-color: white;position: relative;}#sk-container-id-2 div.sk-item::before, #sk-container-id-2 div.sk-parallel-item::before {content: \"\";position: absolute;border-left: 1px solid gray;box-sizing: border-box;top: 0;bottom: 0;left: 50%;z-index: -1;}#sk-container-id-2 div.sk-parallel-item {display: flex;flex-direction: column;z-index: 1;position: relative;background-color: white;}#sk-container-id-2 div.sk-parallel-item:first-child::after {align-self: flex-end;width: 50%;}#sk-container-id-2 div.sk-parallel-item:last-child::after {align-self: flex-start;width: 50%;}#sk-container-id-2 div.sk-parallel-item:only-child::after {width: 0;}#sk-container-id-2 div.sk-dashed-wrapped {border: 1px dashed gray;margin: 0 0.4em 0.5em 0.4em;box-sizing: border-box;padding-bottom: 0.4em;background-color: white;}#sk-container-id-2 div.sk-label label {font-family: monospace;font-weight: bold;display: inline-block;line-height: 1.2em;}#sk-container-id-2 div.sk-label-container {text-align: center;}#sk-container-id-2 div.sk-container {/* jupyter's `normalize.less` sets `[hidden] { display: none; }` but bootstrap.min.css set `[hidden] { display: none !important; }` so we also need the `!important` here to be able to override the default hidden behavior on the sphinx rendered scikit-learn.org. See: https://github.com/scikit-learn/scikit-learn/issues/21755 */display: inline-block !important;position: relative;}#sk-container-id-2 div.sk-text-repr-fallback {display: none;}</style><div id=\"sk-container-id-2\" class=\"sk-top-container\"><div class=\"sk-text-repr-fallback\"><pre>GridSearchCV(cv=5,\n",
       "             estimator=Pipeline(steps=[(&#x27;cvec&#x27;,\n",
       "                                        CountVectorizer(stop_words=[&#x27;see&#x27;,\n",
       "                                                                    &#x27;name&#x27;,\n",
       "                                                                    &#x27;must&#x27;,\n",
       "                                                                    &#x27;under&#x27;,\n",
       "                                                                    &#x27;have&#x27;,\n",
       "                                                                    &#x27;during&#x27;,\n",
       "                                                                    &#x27;hereupon&#x27;,\n",
       "                                                                    &#x27;formerly&#x27;,\n",
       "                                                                    &#x27;upon&#x27;,\n",
       "                                                                    &#x27;several&#x27;,\n",
       "                                                                    &#x27;perhaps&#x27;,\n",
       "                                                                    &#x27;than&#x27;,\n",
       "                                                                    &#x27;towards&#x27;,\n",
       "                                                                    &#x27;however&#x27;,\n",
       "                                                                    &#x27;who&#x27;,\n",
       "                                                                    &#x27;through&#x27;,\n",
       "                                                                    &#x27;though&#x27;,\n",
       "                                                                    &#x27;never&#x27;,\n",
       "                                                                    &#x27;become&#x27;,\n",
       "                                                                    &#x27;across&#x27;,\n",
       "                                                                    &#x27;describe&#x27;,\n",
       "                                                                    &#x27;yours&#x27;,\n",
       "                                                                    &#x27;ever&#x27;,\n",
       "                                                                    &#x27;whither&#x27;,\n",
       "                                                                    &#x27;detail&#x27;,\n",
       "                                                                    &#x27;can&#x27;,\n",
       "                                                                    &#x27;each&#x27;,\n",
       "                                                                    &#x27;wherein&#x27;,\n",
       "                                                                    &#x27;my&#x27;,\n",
       "                                                                    &#x27;there&#x27;, ...])),\n",
       "                                       (&#x27;log_reg&#x27;,...\n",
       "                         &#x27;cvec__min_df&#x27;: [1, 2, 3],\n",
       "                         &#x27;cvec__ngram_range&#x27;: [(1, 1), (1, 2)],\n",
       "                         &#x27;cvec__stop_words&#x27;: [None, &#x27;english&#x27;,\n",
       "                                              [&#x27;see&#x27;, &#x27;name&#x27;, &#x27;must&#x27;, &#x27;under&#x27;,\n",
       "                                               &#x27;have&#x27;, &#x27;during&#x27;, &#x27;hereupon&#x27;,\n",
       "                                               &#x27;formerly&#x27;, &#x27;upon&#x27;, &#x27;several&#x27;,\n",
       "                                               &#x27;perhaps&#x27;, &#x27;than&#x27;, &#x27;towards&#x27;,\n",
       "                                               &#x27;however&#x27;, &#x27;who&#x27;, &#x27;through&#x27;,\n",
       "                                               &#x27;though&#x27;, &#x27;never&#x27;, &#x27;become&#x27;,\n",
       "                                               &#x27;across&#x27;, &#x27;describe&#x27;, &#x27;yours&#x27;,\n",
       "                                               &#x27;ever&#x27;, &#x27;whither&#x27;, &#x27;detail&#x27;,\n",
       "                                               &#x27;can&#x27;, &#x27;each&#x27;, &#x27;wherein&#x27;, &#x27;my&#x27;,\n",
       "                                               &#x27;there&#x27;, ...]]})</pre><b>In a Jupyter environment, please rerun this cell to show the HTML representation or trust the notebook. <br />On GitHub, the HTML representation is unable to render, please try loading this page with nbviewer.org.</b></div><div class=\"sk-container\" hidden><div class=\"sk-item sk-dashed-wrapped\"><div class=\"sk-label-container\"><div class=\"sk-label sk-toggleable\"><input class=\"sk-toggleable__control sk-hidden--visually\" id=\"sk-estimator-id-4\" type=\"checkbox\" ><label for=\"sk-estimator-id-4\" class=\"sk-toggleable__label sk-toggleable__label-arrow\">GridSearchCV</label><div class=\"sk-toggleable__content\"><pre>GridSearchCV(cv=5,\n",
       "             estimator=Pipeline(steps=[(&#x27;cvec&#x27;,\n",
       "                                        CountVectorizer(stop_words=[&#x27;see&#x27;,\n",
       "                                                                    &#x27;name&#x27;,\n",
       "                                                                    &#x27;must&#x27;,\n",
       "                                                                    &#x27;under&#x27;,\n",
       "                                                                    &#x27;have&#x27;,\n",
       "                                                                    &#x27;during&#x27;,\n",
       "                                                                    &#x27;hereupon&#x27;,\n",
       "                                                                    &#x27;formerly&#x27;,\n",
       "                                                                    &#x27;upon&#x27;,\n",
       "                                                                    &#x27;several&#x27;,\n",
       "                                                                    &#x27;perhaps&#x27;,\n",
       "                                                                    &#x27;than&#x27;,\n",
       "                                                                    &#x27;towards&#x27;,\n",
       "                                                                    &#x27;however&#x27;,\n",
       "                                                                    &#x27;who&#x27;,\n",
       "                                                                    &#x27;through&#x27;,\n",
       "                                                                    &#x27;though&#x27;,\n",
       "                                                                    &#x27;never&#x27;,\n",
       "                                                                    &#x27;become&#x27;,\n",
       "                                                                    &#x27;across&#x27;,\n",
       "                                                                    &#x27;describe&#x27;,\n",
       "                                                                    &#x27;yours&#x27;,\n",
       "                                                                    &#x27;ever&#x27;,\n",
       "                                                                    &#x27;whither&#x27;,\n",
       "                                                                    &#x27;detail&#x27;,\n",
       "                                                                    &#x27;can&#x27;,\n",
       "                                                                    &#x27;each&#x27;,\n",
       "                                                                    &#x27;wherein&#x27;,\n",
       "                                                                    &#x27;my&#x27;,\n",
       "                                                                    &#x27;there&#x27;, ...])),\n",
       "                                       (&#x27;log_reg&#x27;,...\n",
       "                         &#x27;cvec__min_df&#x27;: [1, 2, 3],\n",
       "                         &#x27;cvec__ngram_range&#x27;: [(1, 1), (1, 2)],\n",
       "                         &#x27;cvec__stop_words&#x27;: [None, &#x27;english&#x27;,\n",
       "                                              [&#x27;see&#x27;, &#x27;name&#x27;, &#x27;must&#x27;, &#x27;under&#x27;,\n",
       "                                               &#x27;have&#x27;, &#x27;during&#x27;, &#x27;hereupon&#x27;,\n",
       "                                               &#x27;formerly&#x27;, &#x27;upon&#x27;, &#x27;several&#x27;,\n",
       "                                               &#x27;perhaps&#x27;, &#x27;than&#x27;, &#x27;towards&#x27;,\n",
       "                                               &#x27;however&#x27;, &#x27;who&#x27;, &#x27;through&#x27;,\n",
       "                                               &#x27;though&#x27;, &#x27;never&#x27;, &#x27;become&#x27;,\n",
       "                                               &#x27;across&#x27;, &#x27;describe&#x27;, &#x27;yours&#x27;,\n",
       "                                               &#x27;ever&#x27;, &#x27;whither&#x27;, &#x27;detail&#x27;,\n",
       "                                               &#x27;can&#x27;, &#x27;each&#x27;, &#x27;wherein&#x27;, &#x27;my&#x27;,\n",
       "                                               &#x27;there&#x27;, ...]]})</pre></div></div></div><div class=\"sk-parallel\"><div class=\"sk-parallel-item\"><div class=\"sk-item\"><div class=\"sk-label-container\"><div class=\"sk-label sk-toggleable\"><input class=\"sk-toggleable__control sk-hidden--visually\" id=\"sk-estimator-id-5\" type=\"checkbox\" ><label for=\"sk-estimator-id-5\" class=\"sk-toggleable__label sk-toggleable__label-arrow\">estimator: Pipeline</label><div class=\"sk-toggleable__content\"><pre>Pipeline(steps=[(&#x27;cvec&#x27;,\n",
       "                 CountVectorizer(stop_words=[&#x27;see&#x27;, &#x27;name&#x27;, &#x27;must&#x27;, &#x27;under&#x27;,\n",
       "                                             &#x27;have&#x27;, &#x27;during&#x27;, &#x27;hereupon&#x27;,\n",
       "                                             &#x27;formerly&#x27;, &#x27;upon&#x27;, &#x27;several&#x27;,\n",
       "                                             &#x27;perhaps&#x27;, &#x27;than&#x27;, &#x27;towards&#x27;,\n",
       "                                             &#x27;however&#x27;, &#x27;who&#x27;, &#x27;through&#x27;,\n",
       "                                             &#x27;though&#x27;, &#x27;never&#x27;, &#x27;become&#x27;,\n",
       "                                             &#x27;across&#x27;, &#x27;describe&#x27;, &#x27;yours&#x27;,\n",
       "                                             &#x27;ever&#x27;, &#x27;whither&#x27;, &#x27;detail&#x27;, &#x27;can&#x27;,\n",
       "                                             &#x27;each&#x27;, &#x27;wherein&#x27;, &#x27;my&#x27;, &#x27;there&#x27;, ...])),\n",
       "                (&#x27;log_reg&#x27;, LogisticRegression())])</pre></div></div></div><div class=\"sk-serial\"><div class=\"sk-item\"><div class=\"sk-serial\"><div class=\"sk-item\"><div class=\"sk-estimator sk-toggleable\"><input class=\"sk-toggleable__control sk-hidden--visually\" id=\"sk-estimator-id-6\" type=\"checkbox\" ><label for=\"sk-estimator-id-6\" class=\"sk-toggleable__label sk-toggleable__label-arrow\">CountVectorizer</label><div class=\"sk-toggleable__content\"><pre>CountVectorizer(stop_words=[&#x27;see&#x27;, &#x27;name&#x27;, &#x27;must&#x27;, &#x27;under&#x27;, &#x27;have&#x27;, &#x27;during&#x27;,\n",
       "                            &#x27;hereupon&#x27;, &#x27;formerly&#x27;, &#x27;upon&#x27;, &#x27;several&#x27;,\n",
       "                            &#x27;perhaps&#x27;, &#x27;than&#x27;, &#x27;towards&#x27;, &#x27;however&#x27;, &#x27;who&#x27;,\n",
       "                            &#x27;through&#x27;, &#x27;though&#x27;, &#x27;never&#x27;, &#x27;become&#x27;, &#x27;across&#x27;,\n",
       "                            &#x27;describe&#x27;, &#x27;yours&#x27;, &#x27;ever&#x27;, &#x27;whither&#x27;, &#x27;detail&#x27;,\n",
       "                            &#x27;can&#x27;, &#x27;each&#x27;, &#x27;wherein&#x27;, &#x27;my&#x27;, &#x27;there&#x27;, ...])</pre></div></div></div><div class=\"sk-item\"><div class=\"sk-estimator sk-toggleable\"><input class=\"sk-toggleable__control sk-hidden--visually\" id=\"sk-estimator-id-7\" type=\"checkbox\" ><label for=\"sk-estimator-id-7\" class=\"sk-toggleable__label sk-toggleable__label-arrow\">LogisticRegression</label><div class=\"sk-toggleable__content\"><pre>LogisticRegression()</pre></div></div></div></div></div></div></div></div></div></div></div></div>"
      ],
      "text/plain": [
       "GridSearchCV(cv=5,\n",
       "             estimator=Pipeline(steps=[('cvec',\n",
       "                                        CountVectorizer(stop_words=['see',\n",
       "                                                                    'name',\n",
       "                                                                    'must',\n",
       "                                                                    'under',\n",
       "                                                                    'have',\n",
       "                                                                    'during',\n",
       "                                                                    'hereupon',\n",
       "                                                                    'formerly',\n",
       "                                                                    'upon',\n",
       "                                                                    'several',\n",
       "                                                                    'perhaps',\n",
       "                                                                    'than',\n",
       "                                                                    'towards',\n",
       "                                                                    'however',\n",
       "                                                                    'who',\n",
       "                                                                    'through',\n",
       "                                                                    'though',\n",
       "                                                                    'never',\n",
       "                                                                    'become',\n",
       "                                                                    'across',\n",
       "                                                                    'describe',\n",
       "                                                                    'yours',\n",
       "                                                                    'ever',\n",
       "                                                                    'whither',\n",
       "                                                                    'detail',\n",
       "                                                                    'can',\n",
       "                                                                    'each',\n",
       "                                                                    'wherein',\n",
       "                                                                    'my',\n",
       "                                                                    'there', ...])),\n",
       "                                       ('log_reg',...\n",
       "                         'cvec__min_df': [1, 2, 3],\n",
       "                         'cvec__ngram_range': [(1, 1), (1, 2)],\n",
       "                         'cvec__stop_words': [None, 'english',\n",
       "                                              ['see', 'name', 'must', 'under',\n",
       "                                               'have', 'during', 'hereupon',\n",
       "                                               'formerly', 'upon', 'several',\n",
       "                                               'perhaps', 'than', 'towards',\n",
       "                                               'however', 'who', 'through',\n",
       "                                               'though', 'never', 'become',\n",
       "                                               'across', 'describe', 'yours',\n",
       "                                               'ever', 'whither', 'detail',\n",
       "                                               'can', 'each', 'wherein', 'my',\n",
       "                                               'there', ...]]})"
      ]
     },
     "execution_count": 24,
     "metadata": {},
     "output_type": "execute_result"
    }
   ],
   "source": [
    "%%time\n",
    "gs.fit(X_train, y_train)"
   ]
  },
  {
   "cell_type": "code",
   "execution_count": 25,
   "id": "d9e4abab-8b44-4275-93fe-dc25f9eb5117",
   "metadata": {
    "collapsed": true,
    "jupyter": {
     "outputs_hidden": true
    },
    "tags": []
   },
   "outputs": [
    {
     "data": {
      "text/plain": [
       "{'cvec__max_df': 0.9,\n",
       " 'cvec__max_features': None,\n",
       " 'cvec__min_df': 1,\n",
       " 'cvec__ngram_range': (1, 2),\n",
       " 'cvec__stop_words': ['see',\n",
       "  'name',\n",
       "  'must',\n",
       "  'under',\n",
       "  'have',\n",
       "  'during',\n",
       "  'hereupon',\n",
       "  'formerly',\n",
       "  'upon',\n",
       "  'several',\n",
       "  'perhaps',\n",
       "  'than',\n",
       "  'towards',\n",
       "  'however',\n",
       "  'who',\n",
       "  'through',\n",
       "  'though',\n",
       "  'never',\n",
       "  'become',\n",
       "  'across',\n",
       "  'describe',\n",
       "  'yours',\n",
       "  'ever',\n",
       "  'whither',\n",
       "  'detail',\n",
       "  'can',\n",
       "  'each',\n",
       "  'wherein',\n",
       "  'my',\n",
       "  'there',\n",
       "  'toward',\n",
       "  'thick',\n",
       "  'give',\n",
       "  'been',\n",
       "  'couldnt',\n",
       "  'in',\n",
       "  'seeming',\n",
       "  'eleven',\n",
       "  'keep',\n",
       "  'myself',\n",
       "  'some',\n",
       "  'was',\n",
       "  'everywhere',\n",
       "  'eight',\n",
       "  'too',\n",
       "  'beforehand',\n",
       "  'bottom',\n",
       "  'ours',\n",
       "  'down',\n",
       "  'whom',\n",
       "  'whole',\n",
       "  'take',\n",
       "  'hundred',\n",
       "  'least',\n",
       "  'somewhere',\n",
       "  'something',\n",
       "  'when',\n",
       "  'call',\n",
       "  'elsewhere',\n",
       "  'around',\n",
       "  'him',\n",
       "  'then',\n",
       "  'seem',\n",
       "  'un',\n",
       "  'otherwise',\n",
       "  'latter',\n",
       "  'hence',\n",
       "  'three',\n",
       "  'may',\n",
       "  'nobody',\n",
       "  'con',\n",
       "  'enough',\n",
       "  'should',\n",
       "  'this',\n",
       "  'could',\n",
       "  'thin',\n",
       "  'fire',\n",
       "  'our',\n",
       "  'while',\n",
       "  'cannot',\n",
       "  'yourselves',\n",
       "  'that',\n",
       "  'part',\n",
       "  'whenever',\n",
       "  'de',\n",
       "  'became',\n",
       "  'put',\n",
       "  'another',\n",
       "  'more',\n",
       "  'indeed',\n",
       "  'ourselves',\n",
       "  'one',\n",
       "  'someone',\n",
       "  'whence',\n",
       "  'over',\n",
       "  'her',\n",
       "  'which',\n",
       "  'its',\n",
       "  'nothing',\n",
       "  'show',\n",
       "  'am',\n",
       "  'throughout',\n",
       "  'a',\n",
       "  'between',\n",
       "  'without',\n",
       "  'had',\n",
       "  'fill',\n",
       "  'moreover',\n",
       "  'etc',\n",
       "  'twenty',\n",
       "  'wherever',\n",
       "  'of',\n",
       "  'above',\n",
       "  'further',\n",
       "  'amount',\n",
       "  'mine',\n",
       "  'they',\n",
       "  'would',\n",
       "  'anywhere',\n",
       "  'now',\n",
       "  'whatever',\n",
       "  'every',\n",
       "  'as',\n",
       "  'on',\n",
       "  'whereby',\n",
       "  'get',\n",
       "  'third',\n",
       "  'seemed',\n",
       "  'any',\n",
       "  'anyway',\n",
       "  'somehow',\n",
       "  'sometime',\n",
       "  'what',\n",
       "  'is',\n",
       "  'but',\n",
       "  'their',\n",
       "  'up',\n",
       "  'side',\n",
       "  'bill',\n",
       "  'about',\n",
       "  'besides',\n",
       "  'empty',\n",
       "  'mostly',\n",
       "  'rather',\n",
       "  'anyhow',\n",
       "  'co',\n",
       "  'itself',\n",
       "  'only',\n",
       "  'are',\n",
       "  'sixty',\n",
       "  'out',\n",
       "  'hers',\n",
       "  'whose',\n",
       "  'whereafter',\n",
       "  'interest',\n",
       "  'done',\n",
       "  'i',\n",
       "  'whereupon',\n",
       "  'even',\n",
       "  'hereafter',\n",
       "  'why',\n",
       "  'themselves',\n",
       "  'two',\n",
       "  'so',\n",
       "  'cry',\n",
       "  'be',\n",
       "  'she',\n",
       "  'nowhere',\n",
       "  'it',\n",
       "  'mill',\n",
       "  'and',\n",
       "  'afterwards',\n",
       "  'you',\n",
       "  'thru',\n",
       "  'please',\n",
       "  'where',\n",
       "  'noone',\n",
       "  'if',\n",
       "  'still',\n",
       "  'becoming',\n",
       "  'sometimes',\n",
       "  'being',\n",
       "  'none',\n",
       "  'an',\n",
       "  'we',\n",
       "  'system',\n",
       "  'has',\n",
       "  'before',\n",
       "  'again',\n",
       "  'fifteen',\n",
       "  'cant',\n",
       "  'from',\n",
       "  'those',\n",
       "  'not',\n",
       "  'below',\n",
       "  'other',\n",
       "  'nevertheless',\n",
       "  'everyone',\n",
       "  'at',\n",
       "  'whereas',\n",
       "  'almost',\n",
       "  'except',\n",
       "  'anything',\n",
       "  'latterly',\n",
       "  'last',\n",
       "  'seems',\n",
       "  'by',\n",
       "  'yet',\n",
       "  'for',\n",
       "  'yourself',\n",
       "  'himself',\n",
       "  'already',\n",
       "  'behind',\n",
       "  'within',\n",
       "  'amoungst',\n",
       "  'go',\n",
       "  'together',\n",
       "  'off',\n",
       "  'meanwhile',\n",
       "  'either',\n",
       "  'thereby',\n",
       "  'six',\n",
       "  'herself',\n",
       "  'me',\n",
       "  'beyond',\n",
       "  'might',\n",
       "  'twelve',\n",
       "  'or',\n",
       "  'find',\n",
       "  'therefore',\n",
       "  'front',\n",
       "  'the',\n",
       "  'back',\n",
       "  'his',\n",
       "  'own',\n",
       "  'against',\n",
       "  'well',\n",
       "  'will',\n",
       "  'move',\n",
       "  'therein',\n",
       "  'were',\n",
       "  'forty',\n",
       "  'these',\n",
       "  'four',\n",
       "  'alone',\n",
       "  'fifty',\n",
       "  'always',\n",
       "  'us',\n",
       "  'very',\n",
       "  'few',\n",
       "  'hasnt',\n",
       "  'most',\n",
       "  'onto',\n",
       "  'after',\n",
       "  'beside',\n",
       "  'until',\n",
       "  'everything',\n",
       "  'ie',\n",
       "  'next',\n",
       "  'how',\n",
       "  'among',\n",
       "  'he',\n",
       "  'often',\n",
       "  'amongst',\n",
       "  'herein',\n",
       "  'although',\n",
       "  'found',\n",
       "  'here',\n",
       "  'neither',\n",
       "  'via',\n",
       "  'namely',\n",
       "  'first',\n",
       "  'much',\n",
       "  'per',\n",
       "  'serious',\n",
       "  'thereupon',\n",
       "  'all',\n",
       "  'ltd',\n",
       "  'full',\n",
       "  'whoever',\n",
       "  'inc',\n",
       "  'thence',\n",
       "  'thus',\n",
       "  'such',\n",
       "  'five',\n",
       "  'them',\n",
       "  'anyone',\n",
       "  'less',\n",
       "  'sincere',\n",
       "  'becomes',\n",
       "  'eg',\n",
       "  'because',\n",
       "  'thereafter',\n",
       "  'nine',\n",
       "  'due',\n",
       "  'former',\n",
       "  'whether',\n",
       "  'hereby',\n",
       "  'nor',\n",
       "  're',\n",
       "  'same',\n",
       "  'ten',\n",
       "  'top',\n",
       "  'with',\n",
       "  'along',\n",
       "  'into',\n",
       "  'many',\n",
       "  'your',\n",
       "  'also',\n",
       "  'others',\n",
       "  'no',\n",
       "  'made',\n",
       "  'once',\n",
       "  'else',\n",
       "  'do',\n",
       "  'to',\n",
       "  'both',\n",
       "  'since',\n",
       "  've',\n",
       "  'help',\n",
       "  'little']}"
      ]
     },
     "execution_count": 25,
     "metadata": {},
     "output_type": "execute_result"
    }
   ],
   "source": [
    "gs.best_params_"
   ]
  },
  {
   "cell_type": "markdown",
   "id": "53ba067b-15fd-4d64-af7a-b5fd86134796",
   "metadata": {},
   "source": [
    "### Scores"
   ]
  },
  {
   "cell_type": "code",
   "execution_count": 26,
   "id": "091f321f-db2c-4905-b5f3-0757f8b9550f",
   "metadata": {
    "tags": []
   },
   "outputs": [
    {
     "data": {
      "text/plain": [
       "0.977419818783259"
      ]
     },
     "execution_count": 26,
     "metadata": {},
     "output_type": "execute_result"
    }
   ],
   "source": [
    "gs.score(X_train, y_train)"
   ]
  },
  {
   "cell_type": "code",
   "execution_count": 27,
   "id": "64d71912-1bfe-4610-bd1d-25d96b95499a",
   "metadata": {
    "tags": []
   },
   "outputs": [
    {
     "data": {
      "text/plain": [
       "0.8468507333908541"
      ]
     },
     "execution_count": 27,
     "metadata": {},
     "output_type": "execute_result"
    }
   ],
   "source": [
    "gs.score(X_test, y_test)"
   ]
  },
  {
   "cell_type": "markdown",
   "id": "d70979a2-1db5-4d30-8b90-3ddf10c6c29f",
   "metadata": {},
   "source": [
    "### Predictions"
   ]
  },
  {
   "cell_type": "code",
   "execution_count": 28,
   "id": "ca6ca28d-9c05-4f9e-9a30-419485506cab",
   "metadata": {
    "tags": []
   },
   "outputs": [],
   "source": [
    "preds = gs.predict(X_test)\n",
    "tn, fp, fn, tp = confusion_matrix(y_test, preds).ravel()"
   ]
  },
  {
   "cell_type": "code",
   "execution_count": 29,
   "id": "873dc7dd-e6e8-495a-8932-b8432c0deb47",
   "metadata": {
    "tags": []
   },
   "outputs": [
    {
     "data": {
      "image/png": "[encoded data removed]",
      "text/plain": [
       "<Figure size 640x480 with 2 Axes>"
      ]
     },
     "metadata": {},
     "output_type": "display_data"
    }
   ],
   "source": [
    "ConfusionMatrixDisplay.from_estimator(gs, X_test, y_test, cmap='Greens');"
   ]
  },
  {
   "cell_type": "code",
   "execution_count": 43,
   "id": "a23b05e1-a380-45d9-ad60-493af3c3245c",
   "metadata": {
    "tags": []
   },
   "outputs": [
    {
     "data": {
      "image/png": "[encoded data removed]",
      "text/plain": [
       "<Figure size 640x480 with 2 Axes>"
      ]
     },
     "metadata": {},
     "output_type": "display_data"
    }
   ],
   "source": [
    "ConfusionMatrixDisplay.from_predictions(y_test, preds, cmap='Greens')\n",
    "plt.savefig('../images/model_1_confusion', dpi=300); "
   ]
  },
  {
   "cell_type": "code",
   "execution_count": 31,
   "id": "62fa1fb8-c074-4b39-8fc9-062f97ed4861",
   "metadata": {
    "tags": []
   },
   "outputs": [
    {
     "name": "stdout",
     "output_type": "stream",
     "text": [
      "              precision    recall  f1-score   support\n",
      "\n",
      "           0    0.89474   0.78348   0.83542      1150\n",
      "           1    0.81007   0.90925   0.85680      1168\n",
      "\n",
      "    accuracy                        0.84685      2318\n",
      "   macro avg    0.85240   0.84636   0.84611      2318\n",
      "weighted avg    0.85207   0.84685   0.84619      2318\n",
      "\n"
     ]
    }
   ],
   "source": [
    "from sklearn.metrics import classification_report\n",
    "\n",
    "print(classification_report(y_test, preds, digits = 5))"
   ]
  },
  {
   "cell_type": "code",
   "execution_count": 32,
   "id": "cdbc9fac-8a69-48e2-9c68-060e398edabd",
   "metadata": {
    "tags": []
   },
   "outputs": [],
   "source": [
    "misclassified_indices = (preds != y_test)"
   ]
  },
  {
   "cell_type": "code",
   "execution_count": 33,
   "id": "6e0a037e-839b-493f-908f-d97a2da096e8",
   "metadata": {
    "tags": []
   },
   "outputs": [
    {
     "data": {
      "text/plain": [
       "5799    False\n",
       "3599     True\n",
       "4819    False\n",
       "966     False\n",
       "448     False\n",
       "        ...  \n",
       "4215    False\n",
       "4852     True\n",
       "4618    False\n",
       "1474    False\n",
       "6695     True\n",
       "Name: subreddit, Length: 2318, dtype: bool"
      ]
     },
     "execution_count": 33,
     "metadata": {},
     "output_type": "execute_result"
    }
   ],
   "source": [
    "misclassified_indices"
   ]
  },
  {
   "cell_type": "code",
   "execution_count": 34,
   "id": "e29600ca-7e1c-4ced-8325-03b1d73f41f9",
   "metadata": {
    "tags": []
   },
   "outputs": [],
   "source": [
    "misclassified_df = pd.DataFrame({\n",
    "    'Misclassified_Posts': X_test[misclassified_indices],\n",
    "    'True Labels': y_test[misclassified_indices],\n",
    "    'Predicted_Labels': preds[misclassified_indices]\n",
    "})"
   ]
  },
  {
   "cell_type": "code",
   "execution_count": 35,
   "id": "a87ee412-d97b-42d2-b14f-9b3272170a35",
   "metadata": {
    "tags": []
   },
   "outputs": [
    {
     "data": {
      "text/html": [
       "<div>\n",
       "<style scoped>\n",
       "    .dataframe tbody tr th:only-of-type {\n",
       "        vertical-align: middle;\n",
       "    }\n",
       "\n",
       "    .dataframe tbody tr th {\n",
       "        vertical-align: top;\n",
       "    }\n",
       "\n",
       "    .dataframe thead th {\n",
       "        text-align: right;\n",
       "    }\n",
       "</style>\n",
       "<table border=\"1\" class=\"dataframe\">\n",
       "  <thead>\n",
       "    <tr style=\"text-align: right;\">\n",
       "      <th></th>\n",
       "      <th>Misclassified_Posts</th>\n",
       "      <th>True Labels</th>\n",
       "      <th>Predicted_Labels</th>\n",
       "    </tr>\n",
       "  </thead>\n",
       "  <tbody>\n",
       "    <tr>\n",
       "      <th>3599</th>\n",
       "      <td>Any idea what this is ?</td>\n",
       "      <td>1</td>\n",
       "      <td>0</td>\n",
       "    </tr>\n",
       "    <tr>\n",
       "      <th>6600</th>\n",
       "      <td>so proud of my babies...</td>\n",
       "      <td>0</td>\n",
       "      <td>1</td>\n",
       "    </tr>\n",
       "    <tr>\n",
       "      <th>5622</th>\n",
       "      <td>ain’t stupid if it works</td>\n",
       "      <td>0</td>\n",
       "      <td>1</td>\n",
       "    </tr>\n",
       "    <tr>\n",
       "      <th>5030</th>\n",
       "      <td>Thought this sub would appreciate this post</td>\n",
       "      <td>0</td>\n",
       "      <td>1</td>\n",
       "    </tr>\n",
       "    <tr>\n",
       "      <th>5202</th>\n",
       "      <td>Before and after. Really proud.</td>\n",
       "      <td>0</td>\n",
       "      <td>1</td>\n",
       "    </tr>\n",
       "    <tr>\n",
       "      <th>5713</th>\n",
       "      <td>Social distancing in my safe room.</td>\n",
       "      <td>0</td>\n",
       "      <td>1</td>\n",
       "    </tr>\n",
       "    <tr>\n",
       "      <th>8511</th>\n",
       "      <td>What plant is this and how do I overwinter it in Nebraska?</td>\n",
       "      <td>0</td>\n",
       "      <td>1</td>\n",
       "    </tr>\n",
       "    <tr>\n",
       "      <th>6944</th>\n",
       "      <td>Has Anyone seen acorns so large before?</td>\n",
       "      <td>0</td>\n",
       "      <td>1</td>\n",
       "    </tr>\n",
       "    <tr>\n",
       "      <th>6135</th>\n",
       "      <td>My preschooler came home with a milk carton filled with dirt. Per her words “we gotta give it suns, waters and winds.” So, we did that. Now what?</td>\n",
       "      <td>0</td>\n",
       "      <td>1</td>\n",
       "    </tr>\n",
       "    <tr>\n",
       "      <th>4218</th>\n",
       "      <td>MoM, best way to cut back?</td>\n",
       "      <td>1</td>\n",
       "      <td>0</td>\n",
       "    </tr>\n",
       "    <tr>\n",
       "      <th>7506</th>\n",
       "      <td>My stunning coleus plant 😍</td>\n",
       "      <td>0</td>\n",
       "      <td>1</td>\n",
       "    </tr>\n",
       "    <tr>\n",
       "      <th>6817</th>\n",
       "      <td>Biggest freaking hornworm I’ve ever seen.</td>\n",
       "      <td>0</td>\n",
       "      <td>1</td>\n",
       "    </tr>\n",
       "    <tr>\n",
       "      <th>6370</th>\n",
       "      <td>One Year Progress. So happy I could cry.</td>\n",
       "      <td>0</td>\n",
       "      <td>1</td>\n",
       "    </tr>\n",
       "    <tr>\n",
       "      <th>5591</th>\n",
       "      <td>Today on ‘Reddit made me buy it’</td>\n",
       "      <td>0</td>\n",
       "      <td>1</td>\n",
       "    </tr>\n",
       "    <tr>\n",
       "      <th>8531</th>\n",
       "      <td>How do I get this acorn to sprout?</td>\n",
       "      <td>0</td>\n",
       "      <td>1</td>\n",
       "    </tr>\n",
       "    <tr>\n",
       "      <th>7801</th>\n",
       "      <td>Monstera fruit</td>\n",
       "      <td>0</td>\n",
       "      <td>1</td>\n",
       "    </tr>\n",
       "    <tr>\n",
       "      <th>9062</th>\n",
       "      <td>What is this?</td>\n",
       "      <td>0</td>\n",
       "      <td>1</td>\n",
       "    </tr>\n",
       "    <tr>\n",
       "      <th>8082</th>\n",
       "      <td>What would you plant here?</td>\n",
       "      <td>0</td>\n",
       "      <td>1</td>\n",
       "    </tr>\n",
       "    <tr>\n",
       "      <th>4362</th>\n",
       "      <td>Will this plant grow anymore?</td>\n",
       "      <td>1</td>\n",
       "      <td>0</td>\n",
       "    </tr>\n",
       "    <tr>\n",
       "      <th>9170</th>\n",
       "      <td>What kind of plant is this?</td>\n",
       "      <td>0</td>\n",
       "      <td>1</td>\n",
       "    </tr>\n",
       "    <tr>\n",
       "      <th>6179</th>\n",
       "      <td>My Calendula Heart : )</td>\n",
       "      <td>0</td>\n",
       "      <td>1</td>\n",
       "    </tr>\n",
       "    <tr>\n",
       "      <th>7495</th>\n",
       "      <td>Got this from a neighbour!</td>\n",
       "      <td>0</td>\n",
       "      <td>1</td>\n",
       "    </tr>\n",
       "    <tr>\n",
       "      <th>2042</th>\n",
       "      <td>Found mealies this afternoon, and neemed the plant. I went to check it tonight, and there’s a predator EATING them!! Wtf is that?!</td>\n",
       "      <td>1</td>\n",
       "      <td>0</td>\n",
       "    </tr>\n",
       "    <tr>\n",
       "      <th>5060</th>\n",
       "      <td>Not mine, but had to share!</td>\n",
       "      <td>0</td>\n",
       "      <td>1</td>\n",
       "    </tr>\n",
       "    <tr>\n",
       "      <th>1586</th>\n",
       "      <td>my water garden betta tank</td>\n",
       "      <td>1</td>\n",
       "      <td>0</td>\n",
       "    </tr>\n",
       "  </tbody>\n",
       "</table>\n",
       "</div>"
      ],
      "text/plain": [
       "                                                                                                                                    Misclassified_Posts  \\\n",
       "3599                                                                                                                            Any idea what this is ?   \n",
       "6600                                                                                                                           so proud of my babies...   \n",
       "5622                                                                                                                           ain’t stupid if it works   \n",
       "5030                                                                                                        Thought this sub would appreciate this post   \n",
       "5202                                                                                                                    Before and after. Really proud.   \n",
       "5713                                                                                                                 Social distancing in my safe room.   \n",
       "8511                                                                                         What plant is this and how do I overwinter it in Nebraska?   \n",
       "6944                                                                                                            Has Anyone seen acorns so large before?   \n",
       "6135  My preschooler came home with a milk carton filled with dirt. Per her words “we gotta give it suns, waters and winds.” So, we did that. Now what?   \n",
       "4218                                                                                                                         MoM, best way to cut back?   \n",
       "7506                                                                                                                         My stunning coleus plant 😍   \n",
       "6817                                                                                                          Biggest freaking hornworm I’ve ever seen.   \n",
       "6370                                                                                                           One Year Progress. So happy I could cry.   \n",
       "5591                                                                                                                   Today on ‘Reddit made me buy it’   \n",
       "8531                                                                                                                 How do I get this acorn to sprout?   \n",
       "7801                                                                                                                                     Monstera fruit   \n",
       "9062                                                                                                                                      What is this?   \n",
       "8082                                                                                                                         What would you plant here?   \n",
       "4362                                                                                                                      Will this plant grow anymore?   \n",
       "9170                                                                                                                        What kind of plant is this?   \n",
       "6179                                                                                                                             My Calendula Heart : )   \n",
       "7495                                                                                                                         Got this from a neighbour!   \n",
       "2042                 Found mealies this afternoon, and neemed the plant. I went to check it tonight, and there’s a predator EATING them!! Wtf is that?!   \n",
       "5060                                                                                                                        Not mine, but had to share!   \n",
       "1586                                                                                                                         my water garden betta tank   \n",
       "\n",
       "      True Labels  Predicted_Labels  \n",
       "3599            1                 0  \n",
       "6600            0                 1  \n",
       "5622            0                 1  \n",
       "5030            0                 1  \n",
       "5202            0                 1  \n",
       "5713            0                 1  \n",
       "8511            0                 1  \n",
       "6944            0                 1  \n",
       "6135            0                 1  \n",
       "4218            1                 0  \n",
       "7506            0                 1  \n",
       "6817            0                 1  \n",
       "6370            0                 1  \n",
       "5591            0                 1  \n",
       "8531            0                 1  \n",
       "7801            0                 1  \n",
       "9062            0                 1  \n",
       "8082            0                 1  \n",
       "4362            1                 0  \n",
       "9170            0                 1  \n",
       "6179            0                 1  \n",
       "7495            0                 1  \n",
       "2042            1                 0  \n",
       "5060            0                 1  \n",
       "1586            1                 0  "
      ]
     },
     "execution_count": 35,
     "metadata": {},
     "output_type": "execute_result"
    }
   ],
   "source": [
    "misclassified_df.head(25)"
   ]
  }
 ],
 "metadata": {
  "kernelspec": {
   "display_name": "Python 3 (ipykernel)",
   "language": "python",
   "name": "python3"
  },
  "language_info": {
   "codemirror_mode": {
    "name": "ipython",
    "version": 3
   },
   "file_extension": ".py",
   "mimetype": "text/x-python",
   "name": "python",
   "nbconvert_exporter": "python",
   "pygments_lexer": "ipython3",
   "version": "3.11.5"
  }
 },
 "nbformat": 4,
 "nbformat_minor": 5
}
