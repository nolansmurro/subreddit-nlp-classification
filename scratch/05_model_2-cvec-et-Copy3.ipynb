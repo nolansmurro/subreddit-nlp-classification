{
 "cells": [
  {
   "cell_type": "markdown",
   "id": "9cdb54af-5b36-45e2-882f-1441c4c525b9",
   "metadata": {},
   "source": [
    "# Modeling"
   ]
  },
  {
   "cell_type": "code",
   "execution_count": 30,
   "id": "45b4168a-3fd7-4e7e-a099-5b63fffa7f62",
   "metadata": {
    "tags": []
   },
   "outputs": [],
   "source": [
    "import pandas as pd\n",
    "import numpy as np\n",
    "\n",
    "from sklearn.model_selection import train_test_split, GridSearchCV\n",
    "from sklearn.linear_model import LogisticRegression\n",
    "from sklearn.pipeline import Pipeline\n",
    "\n",
    "from sklearn.metrics import confusion_matrix, ConfusionMatrixDisplay\n",
    "from sklearn.feature_extraction.text import CountVectorizer\n",
    "from sklearn.ensemble import RandomForestClassifier, ExtraTreesClassifier\n",
    "from sklearn.metrics import classification_report\n",
    "from sklearn.tree import plot_tree\n",
    "\n",
    "pd.set_option('display.max_colwidth', None)"
   ]
  },
  {
   "cell_type": "code",
   "execution_count": 2,
   "id": "d42aba35-e36a-4dab-ac19-fc5de16548d0",
   "metadata": {
    "tags": []
   },
   "outputs": [],
   "source": [
    "plants = pd.read_csv('../data/data_cleaned/plants.csv')"
   ]
  },
  {
   "cell_type": "code",
   "execution_count": 3,
   "id": "230feebd-322c-4fc5-b316-35fffd11db42",
   "metadata": {
    "tags": []
   },
   "outputs": [
    {
     "data": {
      "text/html": [
       "<div>\n",
       "<style scoped>\n",
       "    .dataframe tbody tr th:only-of-type {\n",
       "        vertical-align: middle;\n",
       "    }\n",
       "\n",
       "    .dataframe tbody tr th {\n",
       "        vertical-align: top;\n",
       "    }\n",
       "\n",
       "    .dataframe thead th {\n",
       "        text-align: right;\n",
       "    }\n",
       "</style>\n",
       "<table border=\"1\" class=\"dataframe\">\n",
       "  <thead>\n",
       "    <tr style=\"text-align: right;\">\n",
       "      <th></th>\n",
       "      <th>id</th>\n",
       "      <th>created_utc</th>\n",
       "      <th>title</th>\n",
       "      <th>self_text</th>\n",
       "      <th>comments</th>\n",
       "      <th>score</th>\n",
       "      <th>upvote_ratio</th>\n",
       "      <th>subreddit</th>\n",
       "    </tr>\n",
       "  </thead>\n",
       "  <tbody>\n",
       "    <tr>\n",
       "      <th>0</th>\n",
       "      <td>uw3f46</td>\n",
       "      <td>1.653321e+09</td>\n",
       "      <td>I feel attacked.</td>\n",
       "      <td>no_text</td>\n",
       "      <td>793</td>\n",
       "      <td>63651</td>\n",
       "      <td>0.94</td>\n",
       "      <td>1</td>\n",
       "    </tr>\n",
       "    <tr>\n",
       "      <th>1</th>\n",
       "      <td>v4z9xu</td>\n",
       "      <td>1.654380e+09</td>\n",
       "      <td>The liberals are trying to make my plants gay!!</td>\n",
       "      <td>no_text</td>\n",
       "      <td>1281</td>\n",
       "      <td>54217</td>\n",
       "      <td>0.82</td>\n",
       "      <td>1</td>\n",
       "    </tr>\n",
       "    <tr>\n",
       "      <th>2</th>\n",
       "      <td>q0hqvn</td>\n",
       "      <td>1.633268e+09</td>\n",
       "      <td>This was supposed to be a plant progress post showing off my oxalis but Henk stole the show</td>\n",
       "      <td>no_text</td>\n",
       "      <td>572</td>\n",
       "      <td>45198</td>\n",
       "      <td>0.96</td>\n",
       "      <td>1</td>\n",
       "    </tr>\n",
       "    <tr>\n",
       "      <th>3</th>\n",
       "      <td>i5rplr</td>\n",
       "      <td>1.596855e+09</td>\n",
       "      <td>My grandpa made me a plant stand 💖</td>\n",
       "      <td>no_text</td>\n",
       "      <td>451</td>\n",
       "      <td>40218</td>\n",
       "      <td>0.96</td>\n",
       "      <td>1</td>\n",
       "    </tr>\n",
       "    <tr>\n",
       "      <th>4</th>\n",
       "      <td>lkjvss</td>\n",
       "      <td>1.613414e+09</td>\n",
       "      <td>I let my Golden Pothos get outta hand for just this reason. It’s like a little jungle for him.</td>\n",
       "      <td>no_text</td>\n",
       "      <td>593</td>\n",
       "      <td>39723</td>\n",
       "      <td>0.98</td>\n",
       "      <td>1</td>\n",
       "    </tr>\n",
       "  </tbody>\n",
       "</table>\n",
       "</div>"
      ],
      "text/plain": [
       "       id   created_utc  \\\n",
       "0  uw3f46  1.653321e+09   \n",
       "1  v4z9xu  1.654380e+09   \n",
       "2  q0hqvn  1.633268e+09   \n",
       "3  i5rplr  1.596855e+09   \n",
       "4  lkjvss  1.613414e+09   \n",
       "\n",
       "                                                                                            title  \\\n",
       "0                                                                                I feel attacked.   \n",
       "1                                                 The liberals are trying to make my plants gay!!   \n",
       "2     This was supposed to be a plant progress post showing off my oxalis but Henk stole the show   \n",
       "3                                                              My grandpa made me a plant stand 💖   \n",
       "4  I let my Golden Pothos get outta hand for just this reason. It’s like a little jungle for him.   \n",
       "\n",
       "  self_text  comments  score  upvote_ratio  subreddit  \n",
       "0   no_text       793  63651          0.94          1  \n",
       "1   no_text      1281  54217          0.82          1  \n",
       "2   no_text       572  45198          0.96          1  \n",
       "3   no_text       451  40218          0.96          1  \n",
       "4   no_text       593  39723          0.98          1  "
      ]
     },
     "execution_count": 3,
     "metadata": {},
     "output_type": "execute_result"
    }
   ],
   "source": [
    "plants.head()"
   ]
  },
  {
   "cell_type": "code",
   "execution_count": 4,
   "id": "20270935-932f-49c8-ac59-6955fc20d590",
   "metadata": {
    "tags": []
   },
   "outputs": [
    {
     "data": {
      "text/plain": [
       "(9271, 8)"
      ]
     },
     "execution_count": 4,
     "metadata": {},
     "output_type": "execute_result"
    }
   ],
   "source": [
    "plants.shape"
   ]
  },
  {
   "cell_type": "code",
   "execution_count": 5,
   "id": "ca70a718-a5be-4567-9000-ff22432e289d",
   "metadata": {
    "tags": []
   },
   "outputs": [],
   "source": [
    "X = plants['title']\n",
    "y = plants['subreddit']"
   ]
  },
  {
   "cell_type": "code",
   "execution_count": 6,
   "id": "66b73c84-3c5c-46eb-8907-1b52647df3c5",
   "metadata": {
    "tags": []
   },
   "outputs": [
    {
     "data": {
      "text/plain": [
       "(9271,)"
      ]
     },
     "execution_count": 6,
     "metadata": {},
     "output_type": "execute_result"
    }
   ],
   "source": [
    "X.shape"
   ]
  },
  {
   "cell_type": "code",
   "execution_count": 7,
   "id": "ceb42eec-741f-4235-aa86-cd60257fa850",
   "metadata": {
    "tags": []
   },
   "outputs": [],
   "source": [
    "X_train, X_test, y_train, y_test = train_test_split(X, y, test_size=0.25, random_state=21)"
   ]
  },
  {
   "cell_type": "code",
   "execution_count": 8,
   "id": "82a649aa-438a-40cd-bf29-d29e995abefa",
   "metadata": {
    "tags": []
   },
   "outputs": [
    {
     "data": {
      "text/plain": [
       "(6953,)"
      ]
     },
     "execution_count": 8,
     "metadata": {},
     "output_type": "execute_result"
    }
   ],
   "source": [
    "X_train.shape"
   ]
  },
  {
   "cell_type": "code",
   "execution_count": 9,
   "id": "ca6c08d6-6f88-4336-816d-bd7ed0b5f971",
   "metadata": {},
   "outputs": [],
   "source": [
    "cvec = CountVectorizer(\n",
    ")"
   ]
  },
  {
   "cell_type": "code",
   "execution_count": 10,
   "id": "77cf5efc-d8d3-4eb1-98e2-f3a2f9973799",
   "metadata": {
    "tags": []
   },
   "outputs": [],
   "source": [
    "pipe = Pipeline([\n",
    "    ('cvec', CountVectorizer()),\n",
    "    ('et', ExtraTreesClassifier(random_state=21))\n",
    "])"
   ]
  },
  {
   "cell_type": "code",
   "execution_count": 11,
   "id": "5ed358eb-7ac3-4265-b911-0ca5f836631f",
   "metadata": {
    "tags": []
   },
   "outputs": [
    {
     "data": {
      "text/html": [
       "<style>#sk-container-id-1 {color: black;}#sk-container-id-1 pre{padding: 0;}#sk-container-id-1 div.sk-toggleable {background-color: white;}#sk-container-id-1 label.sk-toggleable__label {cursor: pointer;display: block;width: 100%;margin-bottom: 0;padding: 0.3em;box-sizing: border-box;text-align: center;}#sk-container-id-1 label.sk-toggleable__label-arrow:before {content: \"▸\";float: left;margin-right: 0.25em;color: #696969;}#sk-container-id-1 label.sk-toggleable__label-arrow:hover:before {color: black;}#sk-container-id-1 div.sk-estimator:hover label.sk-toggleable__label-arrow:before {color: black;}#sk-container-id-1 div.sk-toggleable__content {max-height: 0;max-width: 0;overflow: hidden;text-align: left;background-color: #f0f8ff;}#sk-container-id-1 div.sk-toggleable__content pre {margin: 0.2em;color: black;border-radius: 0.25em;background-color: #f0f8ff;}#sk-container-id-1 input.sk-toggleable__control:checked~div.sk-toggleable__content {max-height: 200px;max-width: 100%;overflow: auto;}#sk-container-id-1 input.sk-toggleable__control:checked~label.sk-toggleable__label-arrow:before {content: \"▾\";}#sk-container-id-1 div.sk-estimator input.sk-toggleable__control:checked~label.sk-toggleable__label {background-color: #d4ebff;}#sk-container-id-1 div.sk-label input.sk-toggleable__control:checked~label.sk-toggleable__label {background-color: #d4ebff;}#sk-container-id-1 input.sk-hidden--visually {border: 0;clip: rect(1px 1px 1px 1px);clip: rect(1px, 1px, 1px, 1px);height: 1px;margin: -1px;overflow: hidden;padding: 0;position: absolute;width: 1px;}#sk-container-id-1 div.sk-estimator {font-family: monospace;background-color: #f0f8ff;border: 1px dotted black;border-radius: 0.25em;box-sizing: border-box;margin-bottom: 0.5em;}#sk-container-id-1 div.sk-estimator:hover {background-color: #d4ebff;}#sk-container-id-1 div.sk-parallel-item::after {content: \"\";width: 100%;border-bottom: 1px solid gray;flex-grow: 1;}#sk-container-id-1 div.sk-label:hover label.sk-toggleable__label {background-color: #d4ebff;}#sk-container-id-1 div.sk-serial::before {content: \"\";position: absolute;border-left: 1px solid gray;box-sizing: border-box;top: 0;bottom: 0;left: 50%;z-index: 0;}#sk-container-id-1 div.sk-serial {display: flex;flex-direction: column;align-items: center;background-color: white;padding-right: 0.2em;padding-left: 0.2em;position: relative;}#sk-container-id-1 div.sk-item {position: relative;z-index: 1;}#sk-container-id-1 div.sk-parallel {display: flex;align-items: stretch;justify-content: center;background-color: white;position: relative;}#sk-container-id-1 div.sk-item::before, #sk-container-id-1 div.sk-parallel-item::before {content: \"\";position: absolute;border-left: 1px solid gray;box-sizing: border-box;top: 0;bottom: 0;left: 50%;z-index: -1;}#sk-container-id-1 div.sk-parallel-item {display: flex;flex-direction: column;z-index: 1;position: relative;background-color: white;}#sk-container-id-1 div.sk-parallel-item:first-child::after {align-self: flex-end;width: 50%;}#sk-container-id-1 div.sk-parallel-item:last-child::after {align-self: flex-start;width: 50%;}#sk-container-id-1 div.sk-parallel-item:only-child::after {width: 0;}#sk-container-id-1 div.sk-dashed-wrapped {border: 1px dashed gray;margin: 0 0.4em 0.5em 0.4em;box-sizing: border-box;padding-bottom: 0.4em;background-color: white;}#sk-container-id-1 div.sk-label label {font-family: monospace;font-weight: bold;display: inline-block;line-height: 1.2em;}#sk-container-id-1 div.sk-label-container {text-align: center;}#sk-container-id-1 div.sk-container {/* jupyter's `normalize.less` sets `[hidden] { display: none; }` but bootstrap.min.css set `[hidden] { display: none !important; }` so we also need the `!important` here to be able to override the default hidden behavior on the sphinx rendered scikit-learn.org. See: https://github.com/scikit-learn/scikit-learn/issues/21755 */display: inline-block !important;position: relative;}#sk-container-id-1 div.sk-text-repr-fallback {display: none;}</style><div id=\"sk-container-id-1\" class=\"sk-top-container\"><div class=\"sk-text-repr-fallback\"><pre>Pipeline(steps=[(&#x27;cvec&#x27;, CountVectorizer()),\n",
       "                (&#x27;et&#x27;, ExtraTreesClassifier(random_state=21))])</pre><b>In a Jupyter environment, please rerun this cell to show the HTML representation or trust the notebook. <br />On GitHub, the HTML representation is unable to render, please try loading this page with nbviewer.org.</b></div><div class=\"sk-container\" hidden><div class=\"sk-item sk-dashed-wrapped\"><div class=\"sk-label-container\"><div class=\"sk-label sk-toggleable\"><input class=\"sk-toggleable__control sk-hidden--visually\" id=\"sk-estimator-id-1\" type=\"checkbox\" ><label for=\"sk-estimator-id-1\" class=\"sk-toggleable__label sk-toggleable__label-arrow\">Pipeline</label><div class=\"sk-toggleable__content\"><pre>Pipeline(steps=[(&#x27;cvec&#x27;, CountVectorizer()),\n",
       "                (&#x27;et&#x27;, ExtraTreesClassifier(random_state=21))])</pre></div></div></div><div class=\"sk-serial\"><div class=\"sk-item\"><div class=\"sk-estimator sk-toggleable\"><input class=\"sk-toggleable__control sk-hidden--visually\" id=\"sk-estimator-id-2\" type=\"checkbox\" ><label for=\"sk-estimator-id-2\" class=\"sk-toggleable__label sk-toggleable__label-arrow\">CountVectorizer</label><div class=\"sk-toggleable__content\"><pre>CountVectorizer()</pre></div></div></div><div class=\"sk-item\"><div class=\"sk-estimator sk-toggleable\"><input class=\"sk-toggleable__control sk-hidden--visually\" id=\"sk-estimator-id-3\" type=\"checkbox\" ><label for=\"sk-estimator-id-3\" class=\"sk-toggleable__label sk-toggleable__label-arrow\">ExtraTreesClassifier</label><div class=\"sk-toggleable__content\"><pre>ExtraTreesClassifier(random_state=21)</pre></div></div></div></div></div></div></div>"
      ],
      "text/plain": [
       "Pipeline(steps=[('cvec', CountVectorizer()),\n",
       "                ('et', ExtraTreesClassifier(random_state=21))])"
      ]
     },
     "execution_count": 11,
     "metadata": {},
     "output_type": "execute_result"
    }
   ],
   "source": [
    "pipe.fit(X_train, y_train)"
   ]
  },
  {
   "cell_type": "code",
   "execution_count": 12,
   "id": "e7061970-2f1f-478c-afa3-0925d9d130ca",
   "metadata": {
    "tags": []
   },
   "outputs": [
    {
     "data": {
      "text/plain": [
       "0.9953976700704732"
      ]
     },
     "execution_count": 12,
     "metadata": {},
     "output_type": "execute_result"
    }
   ],
   "source": [
    "pipe.score(X_train, y_train)"
   ]
  },
  {
   "cell_type": "code",
   "execution_count": 13,
   "id": "9caca9d7-e78b-4c52-86fb-77ce29682686",
   "metadata": {
    "tags": []
   },
   "outputs": [
    {
     "data": {
      "text/plain": [
       "0.8390854184641933"
      ]
     },
     "execution_count": 13,
     "metadata": {},
     "output_type": "execute_result"
    }
   ],
   "source": [
    "pipe.score(X_test, y_test)"
   ]
  },
  {
   "cell_type": "code",
   "execution_count": 14,
   "id": "0af24e1e-0a6f-4f2f-96c9-6b337156276d",
   "metadata": {},
   "outputs": [
    {
     "data": {
      "text/plain": [
       "0.4891597454427785"
      ]
     },
     "execution_count": 14,
     "metadata": {},
     "output_type": "execute_result"
    }
   ],
   "source": [
    "1 - y.mean()"
   ]
  },
  {
   "cell_type": "code",
   "execution_count": 15,
   "id": "922cd56d-6876-4f26-9c55-045fb24e1229",
   "metadata": {
    "tags": []
   },
   "outputs": [
    {
     "data": {
      "text/plain": [
       "{'memory': None,\n",
       " 'steps': [('cvec', CountVectorizer()),\n",
       "  ('et', ExtraTreesClassifier(random_state=21))],\n",
       " 'verbose': False,\n",
       " 'cvec': CountVectorizer(),\n",
       " 'et': ExtraTreesClassifier(random_state=21),\n",
       " 'cvec__analyzer': 'word',\n",
       " 'cvec__binary': False,\n",
       " 'cvec__decode_error': 'strict',\n",
       " 'cvec__dtype': numpy.int64,\n",
       " 'cvec__encoding': 'utf-8',\n",
       " 'cvec__input': 'content',\n",
       " 'cvec__lowercase': True,\n",
       " 'cvec__max_df': 1.0,\n",
       " 'cvec__max_features': None,\n",
       " 'cvec__min_df': 1,\n",
       " 'cvec__ngram_range': (1, 1),\n",
       " 'cvec__preprocessor': None,\n",
       " 'cvec__stop_words': None,\n",
       " 'cvec__strip_accents': None,\n",
       " 'cvec__token_pattern': '(?u)\\\\b\\\\w\\\\w+\\\\b',\n",
       " 'cvec__tokenizer': None,\n",
       " 'cvec__vocabulary': None,\n",
       " 'et__bootstrap': False,\n",
       " 'et__ccp_alpha': 0.0,\n",
       " 'et__class_weight': None,\n",
       " 'et__criterion': 'gini',\n",
       " 'et__max_depth': None,\n",
       " 'et__max_features': 'sqrt',\n",
       " 'et__max_leaf_nodes': None,\n",
       " 'et__max_samples': None,\n",
       " 'et__min_impurity_decrease': 0.0,\n",
       " 'et__min_samples_leaf': 1,\n",
       " 'et__min_samples_split': 2,\n",
       " 'et__min_weight_fraction_leaf': 0.0,\n",
       " 'et__n_estimators': 100,\n",
       " 'et__n_jobs': None,\n",
       " 'et__oob_score': False,\n",
       " 'et__random_state': 21,\n",
       " 'et__verbose': 0,\n",
       " 'et__warm_start': False}"
      ]
     },
     "execution_count": 15,
     "metadata": {},
     "output_type": "execute_result"
    }
   ],
   "source": [
    "pipe.get_params()"
   ]
  },
  {
   "cell_type": "code",
   "execution_count": 16,
   "id": "cc223204-b5dd-4f60-a576-a1fe16ffd1af",
   "metadata": {
    "tags": []
   },
   "outputs": [],
   "source": [
    "pipe_params = {\n",
    "    'cvec__max_features': [None],\n",
    "    'cvec__min_df': [1, 2, 3],\n",
    "    'cvec__max_df': [.9, 1.0],\n",
    "    'cvec__ngram_range': [(1,1), (1,2)],\n",
    "    'cvec__stop_words': [None, 'english'],\n",
    "    'et__n_estimators': [100, 500],\n",
    "    'et__max_features': ['sqrt'],\n",
    "    'et__max_depth': [None],\n",
    "    'et__min_samples_leaf': [1]\n",
    "}"
   ]
  },
  {
   "cell_type": "code",
   "execution_count": 17,
   "id": "6c4abbe7-f87a-4901-b69c-cf54d72ce724",
   "metadata": {
    "tags": []
   },
   "outputs": [],
   "source": [
    "gs = GridSearchCV(pipe,\n",
    "                  param_grid = pipe_params,\n",
    "                  cv = 5,\n",
    "                  n_jobs=8\n",
    ")"
   ]
  },
  {
   "cell_type": "code",
   "execution_count": 18,
   "id": "b3bb70a8-9428-4a39-8bb6-b533c5d40d02",
   "metadata": {
    "tags": []
   },
   "outputs": [
    {
     "name": "stdout",
     "output_type": "stream",
     "text": [
      "CPU times: user 1min 50s, sys: 34.1 s, total: 2min 24s\n",
      "Wall time: 22min 56s\n"
     ]
    },
    {
     "data": {
      "text/html": [
       "<style>#sk-container-id-2 {color: black;}#sk-container-id-2 pre{padding: 0;}#sk-container-id-2 div.sk-toggleable {background-color: white;}#sk-container-id-2 label.sk-toggleable__label {cursor: pointer;display: block;width: 100%;margin-bottom: 0;padding: 0.3em;box-sizing: border-box;text-align: center;}#sk-container-id-2 label.sk-toggleable__label-arrow:before {content: \"▸\";float: left;margin-right: 0.25em;color: #696969;}#sk-container-id-2 label.sk-toggleable__label-arrow:hover:before {color: black;}#sk-container-id-2 div.sk-estimator:hover label.sk-toggleable__label-arrow:before {color: black;}#sk-container-id-2 div.sk-toggleable__content {max-height: 0;max-width: 0;overflow: hidden;text-align: left;background-color: #f0f8ff;}#sk-container-id-2 div.sk-toggleable__content pre {margin: 0.2em;color: black;border-radius: 0.25em;background-color: #f0f8ff;}#sk-container-id-2 input.sk-toggleable__control:checked~div.sk-toggleable__content {max-height: 200px;max-width: 100%;overflow: auto;}#sk-container-id-2 input.sk-toggleable__control:checked~label.sk-toggleable__label-arrow:before {content: \"▾\";}#sk-container-id-2 div.sk-estimator input.sk-toggleable__control:checked~label.sk-toggleable__label {background-color: #d4ebff;}#sk-container-id-2 div.sk-label input.sk-toggleable__control:checked~label.sk-toggleable__label {background-color: #d4ebff;}#sk-container-id-2 input.sk-hidden--visually {border: 0;clip: rect(1px 1px 1px 1px);clip: rect(1px, 1px, 1px, 1px);height: 1px;margin: -1px;overflow: hidden;padding: 0;position: absolute;width: 1px;}#sk-container-id-2 div.sk-estimator {font-family: monospace;background-color: #f0f8ff;border: 1px dotted black;border-radius: 0.25em;box-sizing: border-box;margin-bottom: 0.5em;}#sk-container-id-2 div.sk-estimator:hover {background-color: #d4ebff;}#sk-container-id-2 div.sk-parallel-item::after {content: \"\";width: 100%;border-bottom: 1px solid gray;flex-grow: 1;}#sk-container-id-2 div.sk-label:hover label.sk-toggleable__label {background-color: #d4ebff;}#sk-container-id-2 div.sk-serial::before {content: \"\";position: absolute;border-left: 1px solid gray;box-sizing: border-box;top: 0;bottom: 0;left: 50%;z-index: 0;}#sk-container-id-2 div.sk-serial {display: flex;flex-direction: column;align-items: center;background-color: white;padding-right: 0.2em;padding-left: 0.2em;position: relative;}#sk-container-id-2 div.sk-item {position: relative;z-index: 1;}#sk-container-id-2 div.sk-parallel {display: flex;align-items: stretch;justify-content: center;background-color: white;position: relative;}#sk-container-id-2 div.sk-item::before, #sk-container-id-2 div.sk-parallel-item::before {content: \"\";position: absolute;border-left: 1px solid gray;box-sizing: border-box;top: 0;bottom: 0;left: 50%;z-index: -1;}#sk-container-id-2 div.sk-parallel-item {display: flex;flex-direction: column;z-index: 1;position: relative;background-color: white;}#sk-container-id-2 div.sk-parallel-item:first-child::after {align-self: flex-end;width: 50%;}#sk-container-id-2 div.sk-parallel-item:last-child::after {align-self: flex-start;width: 50%;}#sk-container-id-2 div.sk-parallel-item:only-child::after {width: 0;}#sk-container-id-2 div.sk-dashed-wrapped {border: 1px dashed gray;margin: 0 0.4em 0.5em 0.4em;box-sizing: border-box;padding-bottom: 0.4em;background-color: white;}#sk-container-id-2 div.sk-label label {font-family: monospace;font-weight: bold;display: inline-block;line-height: 1.2em;}#sk-container-id-2 div.sk-label-container {text-align: center;}#sk-container-id-2 div.sk-container {/* jupyter's `normalize.less` sets `[hidden] { display: none; }` but bootstrap.min.css set `[hidden] { display: none !important; }` so we also need the `!important` here to be able to override the default hidden behavior on the sphinx rendered scikit-learn.org. See: https://github.com/scikit-learn/scikit-learn/issues/21755 */display: inline-block !important;position: relative;}#sk-container-id-2 div.sk-text-repr-fallback {display: none;}</style><div id=\"sk-container-id-2\" class=\"sk-top-container\"><div class=\"sk-text-repr-fallback\"><pre>GridSearchCV(cv=5,\n",
       "             estimator=Pipeline(steps=[(&#x27;cvec&#x27;, CountVectorizer()),\n",
       "                                       (&#x27;et&#x27;,\n",
       "                                        ExtraTreesClassifier(random_state=21))]),\n",
       "             n_jobs=8,\n",
       "             param_grid={&#x27;cvec__max_df&#x27;: [0.9, 1.0],\n",
       "                         &#x27;cvec__max_features&#x27;: [None],\n",
       "                         &#x27;cvec__min_df&#x27;: [1, 2, 3],\n",
       "                         &#x27;cvec__ngram_range&#x27;: [(1, 1), (1, 2)],\n",
       "                         &#x27;cvec__stop_words&#x27;: [None, &#x27;english&#x27;],\n",
       "                         &#x27;et__max_depth&#x27;: [None], &#x27;et__max_features&#x27;: [&#x27;sqrt&#x27;],\n",
       "                         &#x27;et__min_samples_leaf&#x27;: [1],\n",
       "                         &#x27;et__n_estimators&#x27;: [100, 500]})</pre><b>In a Jupyter environment, please rerun this cell to show the HTML representation or trust the notebook. <br />On GitHub, the HTML representation is unable to render, please try loading this page with nbviewer.org.</b></div><div class=\"sk-container\" hidden><div class=\"sk-item sk-dashed-wrapped\"><div class=\"sk-label-container\"><div class=\"sk-label sk-toggleable\"><input class=\"sk-toggleable__control sk-hidden--visually\" id=\"sk-estimator-id-4\" type=\"checkbox\" ><label for=\"sk-estimator-id-4\" class=\"sk-toggleable__label sk-toggleable__label-arrow\">GridSearchCV</label><div class=\"sk-toggleable__content\"><pre>GridSearchCV(cv=5,\n",
       "             estimator=Pipeline(steps=[(&#x27;cvec&#x27;, CountVectorizer()),\n",
       "                                       (&#x27;et&#x27;,\n",
       "                                        ExtraTreesClassifier(random_state=21))]),\n",
       "             n_jobs=8,\n",
       "             param_grid={&#x27;cvec__max_df&#x27;: [0.9, 1.0],\n",
       "                         &#x27;cvec__max_features&#x27;: [None],\n",
       "                         &#x27;cvec__min_df&#x27;: [1, 2, 3],\n",
       "                         &#x27;cvec__ngram_range&#x27;: [(1, 1), (1, 2)],\n",
       "                         &#x27;cvec__stop_words&#x27;: [None, &#x27;english&#x27;],\n",
       "                         &#x27;et__max_depth&#x27;: [None], &#x27;et__max_features&#x27;: [&#x27;sqrt&#x27;],\n",
       "                         &#x27;et__min_samples_leaf&#x27;: [1],\n",
       "                         &#x27;et__n_estimators&#x27;: [100, 500]})</pre></div></div></div><div class=\"sk-parallel\"><div class=\"sk-parallel-item\"><div class=\"sk-item\"><div class=\"sk-label-container\"><div class=\"sk-label sk-toggleable\"><input class=\"sk-toggleable__control sk-hidden--visually\" id=\"sk-estimator-id-5\" type=\"checkbox\" ><label for=\"sk-estimator-id-5\" class=\"sk-toggleable__label sk-toggleable__label-arrow\">estimator: Pipeline</label><div class=\"sk-toggleable__content\"><pre>Pipeline(steps=[(&#x27;cvec&#x27;, CountVectorizer()),\n",
       "                (&#x27;et&#x27;, ExtraTreesClassifier(random_state=21))])</pre></div></div></div><div class=\"sk-serial\"><div class=\"sk-item\"><div class=\"sk-serial\"><div class=\"sk-item\"><div class=\"sk-estimator sk-toggleable\"><input class=\"sk-toggleable__control sk-hidden--visually\" id=\"sk-estimator-id-6\" type=\"checkbox\" ><label for=\"sk-estimator-id-6\" class=\"sk-toggleable__label sk-toggleable__label-arrow\">CountVectorizer</label><div class=\"sk-toggleable__content\"><pre>CountVectorizer()</pre></div></div></div><div class=\"sk-item\"><div class=\"sk-estimator sk-toggleable\"><input class=\"sk-toggleable__control sk-hidden--visually\" id=\"sk-estimator-id-7\" type=\"checkbox\" ><label for=\"sk-estimator-id-7\" class=\"sk-toggleable__label sk-toggleable__label-arrow\">ExtraTreesClassifier</label><div class=\"sk-toggleable__content\"><pre>ExtraTreesClassifier(random_state=21)</pre></div></div></div></div></div></div></div></div></div></div></div></div>"
      ],
      "text/plain": [
       "GridSearchCV(cv=5,\n",
       "             estimator=Pipeline(steps=[('cvec', CountVectorizer()),\n",
       "                                       ('et',\n",
       "                                        ExtraTreesClassifier(random_state=21))]),\n",
       "             n_jobs=8,\n",
       "             param_grid={'cvec__max_df': [0.9, 1.0],\n",
       "                         'cvec__max_features': [None],\n",
       "                         'cvec__min_df': [1, 2, 3],\n",
       "                         'cvec__ngram_range': [(1, 1), (1, 2)],\n",
       "                         'cvec__stop_words': [None, 'english'],\n",
       "                         'et__max_depth': [None], 'et__max_features': ['sqrt'],\n",
       "                         'et__min_samples_leaf': [1],\n",
       "                         'et__n_estimators': [100, 500]})"
      ]
     },
     "execution_count": 18,
     "metadata": {},
     "output_type": "execute_result"
    }
   ],
   "source": [
    "%%time\n",
    "gs.fit(X_train, y_train)"
   ]
  },
  {
   "cell_type": "code",
   "execution_count": 43,
   "id": "d9e4abab-8b44-4275-93fe-dc25f9eb5117",
   "metadata": {
    "tags": []
   },
   "outputs": [
    {
     "data": {
      "text/plain": [
       "{'cvec__max_df': 0.9,\n",
       " 'cvec__max_features': None,\n",
       " 'cvec__min_df': 1,\n",
       " 'cvec__ngram_range': (1, 2),\n",
       " 'cvec__stop_words': None,\n",
       " 'et__max_depth': None,\n",
       " 'et__max_features': 'sqrt',\n",
       " 'et__min_samples_leaf': 1,\n",
       " 'et__n_estimators': 500}"
      ]
     },
     "execution_count": 43,
     "metadata": {},
     "output_type": "execute_result"
    }
   ],
   "source": [
    "gs.best_params_"
   ]
  },
  {
   "cell_type": "code",
   "execution_count": 44,
   "id": "091f321f-db2c-4905-b5f3-0757f8b9550f",
   "metadata": {
    "tags": []
   },
   "outputs": [
    {
     "data": {
      "text/plain": [
       "0.9955414928807709"
      ]
     },
     "execution_count": 44,
     "metadata": {},
     "output_type": "execute_result"
    }
   ],
   "source": [
    "gs.score(X_train, y_train)"
   ]
  },
  {
   "cell_type": "code",
   "execution_count": 45,
   "id": "64d71912-1bfe-4610-bd1d-25d96b95499a",
   "metadata": {
    "tags": []
   },
   "outputs": [
    {
     "data": {
      "text/plain": [
       "0.8451251078515962"
      ]
     },
     "execution_count": 45,
     "metadata": {},
     "output_type": "execute_result"
    }
   ],
   "source": [
    "gs.score(X_test, y_test)"
   ]
  },
  {
   "cell_type": "code",
   "execution_count": 46,
   "id": "ca6ca28d-9c05-4f9e-9a30-419485506cab",
   "metadata": {
    "tags": []
   },
   "outputs": [],
   "source": [
    "preds = gs.predict(X_test)\n",
    "tn, fp, fn, tp = confusion_matrix(y_test, preds).ravel()"
   ]
  },
  {
   "cell_type": "code",
   "execution_count": 47,
   "id": "873dc7dd-e6e8-495a-8932-b8432c0deb47",
   "metadata": {
    "tags": []
   },
   "outputs": [
    {
     "data": {
      "image/png": "[encoded data removed]",
      "text/plain": [
       "<Figure size 640x480 with 2 Axes>"
      ]
     },
     "metadata": {},
     "output_type": "display_data"
    }
   ],
   "source": [
    "ConfusionMatrixDisplay.from_estimator(gs, X_test, y_test, cmap='Greens');"
   ]
  },
  {
   "cell_type": "code",
   "execution_count": 48,
   "id": "a23b05e1-a380-45d9-ad60-493af3c3245c",
   "metadata": {
    "tags": []
   },
   "outputs": [
    {
     "data": {
      "image/png": "[encoded data removed]",
      "text/plain": [
       "<Figure size 640x480 with 2 Axes>"
      ]
     },
     "metadata": {},
     "output_type": "display_data"
    }
   ],
   "source": [
    "ConfusionMatrixDisplay.from_predictions(y_test, preds, cmap='Greens');"
   ]
  },
  {
   "cell_type": "code",
   "execution_count": 49,
   "id": "62fa1fb8-c074-4b39-8fc9-062f97ed4861",
   "metadata": {
    "tags": []
   },
   "outputs": [
    {
     "name": "stdout",
     "output_type": "stream",
     "text": [
      "              precision    recall  f1-score   support\n",
      "\n",
      "           0    0.90398   0.76957   0.83138      1150\n",
      "           1    0.80209   0.91952   0.85680      1168\n",
      "\n",
      "    accuracy                        0.84513      2318\n",
      "   macro avg    0.85304   0.84454   0.84409      2318\n",
      "weighted avg    0.85264   0.84513   0.84419      2318\n",
      "\n"
     ]
    }
   ],
   "source": [
    "print(classification_report(y_test, preds, digits = 5))"
   ]
  },
  {
   "cell_type": "code",
   "execution_count": 50,
   "id": "8024e3c3-5825-4dcb-b320-db96431668d5",
   "metadata": {
    "tags": []
   },
   "outputs": [],
   "source": [
    "misclassified_indices = (preds != y_test)"
   ]
  },
  {
   "cell_type": "code",
   "execution_count": 51,
   "id": "02cdb56b-393a-457f-a319-ebfbf8060189",
   "metadata": {
    "tags": []
   },
   "outputs": [
    {
     "data": {
      "text/plain": [
       "5799    False\n",
       "3599    False\n",
       "4819    False\n",
       "966     False\n",
       "448     False\n",
       "        ...  \n",
       "4215    False\n",
       "4852     True\n",
       "4618    False\n",
       "1474    False\n",
       "6695     True\n",
       "Name: subreddit, Length: 2318, dtype: bool"
      ]
     },
     "execution_count": 51,
     "metadata": {},
     "output_type": "execute_result"
    }
   ],
   "source": [
    "misclassified_indices"
   ]
  },
  {
   "cell_type": "code",
   "execution_count": 52,
   "id": "d8ef7029-da44-4418-942b-623cdd7a700b",
   "metadata": {
    "tags": []
   },
   "outputs": [],
   "source": [
    "misclassified_df = pd.DataFrame({\n",
    "    'Misclassified_Posts': X_test[misclassified_indices],\n",
    "    'True Labels': y_test[misclassified_indices],\n",
    "    'Predicted_Labels': preds[misclassified_indices]\n",
    "})"
   ]
  },
  {
   "cell_type": "code",
   "execution_count": 53,
   "id": "6dd434da-6194-4ade-917c-664e6e293629",
   "metadata": {
    "tags": []
   },
   "outputs": [
    {
     "data": {
      "text/html": [
       "<div>\n",
       "<style scoped>\n",
       "    .dataframe tbody tr th:only-of-type {\n",
       "        vertical-align: middle;\n",
       "    }\n",
       "\n",
       "    .dataframe tbody tr th {\n",
       "        vertical-align: top;\n",
       "    }\n",
       "\n",
       "    .dataframe thead th {\n",
       "        text-align: right;\n",
       "    }\n",
       "</style>\n",
       "<table border=\"1\" class=\"dataframe\">\n",
       "  <thead>\n",
       "    <tr style=\"text-align: right;\">\n",
       "      <th></th>\n",
       "      <th>Misclassified_Posts</th>\n",
       "      <th>True Labels</th>\n",
       "      <th>Predicted_Labels</th>\n",
       "    </tr>\n",
       "  </thead>\n",
       "  <tbody>\n",
       "    <tr>\n",
       "      <th>4847</th>\n",
       "      <td>Update on my Ohio pineapple</td>\n",
       "      <td>0</td>\n",
       "      <td>1</td>\n",
       "    </tr>\n",
       "    <tr>\n",
       "      <th>6600</th>\n",
       "      <td>so proud of my babies...</td>\n",
       "      <td>0</td>\n",
       "      <td>1</td>\n",
       "    </tr>\n",
       "    <tr>\n",
       "      <th>8203</th>\n",
       "      <td>Chunky potting mix</td>\n",
       "      <td>0</td>\n",
       "      <td>1</td>\n",
       "    </tr>\n",
       "    <tr>\n",
       "      <th>5622</th>\n",
       "      <td>ain’t stupid if it works</td>\n",
       "      <td>0</td>\n",
       "      <td>1</td>\n",
       "    </tr>\n",
       "    <tr>\n",
       "      <th>5202</th>\n",
       "      <td>Before and after. Really proud.</td>\n",
       "      <td>0</td>\n",
       "      <td>1</td>\n",
       "    </tr>\n",
       "    <tr>\n",
       "      <th>6682</th>\n",
       "      <td>I just started to learn to prune, how is it ? Any thoughts on improvements?</td>\n",
       "      <td>0</td>\n",
       "      <td>1</td>\n",
       "    </tr>\n",
       "    <tr>\n",
       "      <th>5713</th>\n",
       "      <td>Social distancing in my safe room.</td>\n",
       "      <td>0</td>\n",
       "      <td>1</td>\n",
       "    </tr>\n",
       "    <tr>\n",
       "      <th>8511</th>\n",
       "      <td>What plant is this and how do I overwinter it in Nebraska?</td>\n",
       "      <td>0</td>\n",
       "      <td>1</td>\n",
       "    </tr>\n",
       "    <tr>\n",
       "      <th>5385</th>\n",
       "      <td>Oh well, one day maybe</td>\n",
       "      <td>0</td>\n",
       "      <td>1</td>\n",
       "    </tr>\n",
       "    <tr>\n",
       "      <th>6135</th>\n",
       "      <td>My preschooler came home with a milk carton filled with dirt. Per her words “we gotta give it suns, waters and winds.” So, we did that. Now what?</td>\n",
       "      <td>0</td>\n",
       "      <td>1</td>\n",
       "    </tr>\n",
       "    <tr>\n",
       "      <th>4218</th>\n",
       "      <td>MoM, best way to cut back?</td>\n",
       "      <td>1</td>\n",
       "      <td>0</td>\n",
       "    </tr>\n",
       "    <tr>\n",
       "      <th>7506</th>\n",
       "      <td>My stunning coleus plant 😍</td>\n",
       "      <td>0</td>\n",
       "      <td>1</td>\n",
       "    </tr>\n",
       "    <tr>\n",
       "      <th>4236</th>\n",
       "      <td>Mother of Thousands HELP</td>\n",
       "      <td>1</td>\n",
       "      <td>0</td>\n",
       "    </tr>\n",
       "    <tr>\n",
       "      <th>6817</th>\n",
       "      <td>Biggest freaking hornworm I’ve ever seen.</td>\n",
       "      <td>0</td>\n",
       "      <td>1</td>\n",
       "    </tr>\n",
       "    <tr>\n",
       "      <th>6370</th>\n",
       "      <td>One Year Progress. So happy I could cry.</td>\n",
       "      <td>0</td>\n",
       "      <td>1</td>\n",
       "    </tr>\n",
       "    <tr>\n",
       "      <th>5591</th>\n",
       "      <td>Today on ‘Reddit made me buy it’</td>\n",
       "      <td>0</td>\n",
       "      <td>1</td>\n",
       "    </tr>\n",
       "    <tr>\n",
       "      <th>8531</th>\n",
       "      <td>How do I get this acorn to sprout?</td>\n",
       "      <td>0</td>\n",
       "      <td>1</td>\n",
       "    </tr>\n",
       "    <tr>\n",
       "      <th>8472</th>\n",
       "      <td>Poppy bloom out of season</td>\n",
       "      <td>0</td>\n",
       "      <td>1</td>\n",
       "    </tr>\n",
       "    <tr>\n",
       "      <th>2219</th>\n",
       "      <td>First time blooms from my butt plants</td>\n",
       "      <td>1</td>\n",
       "      <td>0</td>\n",
       "    </tr>\n",
       "    <tr>\n",
       "      <th>9062</th>\n",
       "      <td>What is this?</td>\n",
       "      <td>0</td>\n",
       "      <td>1</td>\n",
       "    </tr>\n",
       "    <tr>\n",
       "      <th>8082</th>\n",
       "      <td>What would you plant here?</td>\n",
       "      <td>0</td>\n",
       "      <td>1</td>\n",
       "    </tr>\n",
       "    <tr>\n",
       "      <th>4782</th>\n",
       "      <td>Not sure if this is allowed but thought you folks might appreciate it :)</td>\n",
       "      <td>0</td>\n",
       "      <td>1</td>\n",
       "    </tr>\n",
       "    <tr>\n",
       "      <th>2839</th>\n",
       "      <td>What are these plants? And how do I propagate them?</td>\n",
       "      <td>1</td>\n",
       "      <td>0</td>\n",
       "    </tr>\n",
       "    <tr>\n",
       "      <th>8619</th>\n",
       "      <td>Jerusalem artichoke tubers (UK)</td>\n",
       "      <td>0</td>\n",
       "      <td>1</td>\n",
       "    </tr>\n",
       "    <tr>\n",
       "      <th>6179</th>\n",
       "      <td>My Calendula Heart : )</td>\n",
       "      <td>0</td>\n",
       "      <td>1</td>\n",
       "    </tr>\n",
       "    <tr>\n",
       "      <th>7495</th>\n",
       "      <td>Got this from a neighbour!</td>\n",
       "      <td>0</td>\n",
       "      <td>1</td>\n",
       "    </tr>\n",
       "    <tr>\n",
       "      <th>6042</th>\n",
       "      <td>Discovered on my morning walk!</td>\n",
       "      <td>0</td>\n",
       "      <td>1</td>\n",
       "    </tr>\n",
       "    <tr>\n",
       "      <th>5060</th>\n",
       "      <td>Not mine, but had to share!</td>\n",
       "      <td>0</td>\n",
       "      <td>1</td>\n",
       "    </tr>\n",
       "    <tr>\n",
       "      <th>1586</th>\n",
       "      <td>my water garden betta tank</td>\n",
       "      <td>1</td>\n",
       "      <td>0</td>\n",
       "    </tr>\n",
       "    <tr>\n",
       "      <th>6859</th>\n",
       "      <td>How large will this grow?</td>\n",
       "      <td>0</td>\n",
       "      <td>1</td>\n",
       "    </tr>\n",
       "    <tr>\n",
       "      <th>2968</th>\n",
       "      <td>How it started Vs how it’s growing</td>\n",
       "      <td>1</td>\n",
       "      <td>0</td>\n",
       "    </tr>\n",
       "    <tr>\n",
       "      <th>6348</th>\n",
       "      <td>Went to ancestral property (untouched for 25 years) and found this.</td>\n",
       "      <td>0</td>\n",
       "      <td>1</td>\n",
       "    </tr>\n",
       "    <tr>\n",
       "      <th>6115</th>\n",
       "      <td>And so it begins!</td>\n",
       "      <td>0</td>\n",
       "      <td>1</td>\n",
       "    </tr>\n",
       "    <tr>\n",
       "      <th>7553</th>\n",
       "      <td>Getting cold, so I brought my spicy Boi inside.</td>\n",
       "      <td>0</td>\n",
       "      <td>1</td>\n",
       "    </tr>\n",
       "    <tr>\n",
       "      <th>8577</th>\n",
       "      <td>Does anyone know species that are difficult to cultivate?</td>\n",
       "      <td>0</td>\n",
       "      <td>1</td>\n",
       "    </tr>\n",
       "    <tr>\n",
       "      <th>2186</th>\n",
       "      <td>She pushed out a flower! 😂😩</td>\n",
       "      <td>1</td>\n",
       "      <td>0</td>\n",
       "    </tr>\n",
       "    <tr>\n",
       "      <th>7072</th>\n",
       "      <td>My aunts fig tree (with full access to devour it)</td>\n",
       "      <td>0</td>\n",
       "      <td>1</td>\n",
       "    </tr>\n",
       "    <tr>\n",
       "      <th>6270</th>\n",
       "      <td>Oh no!</td>\n",
       "      <td>0</td>\n",
       "      <td>1</td>\n",
       "    </tr>\n",
       "    <tr>\n",
       "      <th>2022</th>\n",
       "      <td>Finally found a use for all of those buckets from last year!</td>\n",
       "      <td>1</td>\n",
       "      <td>0</td>\n",
       "    </tr>\n",
       "    <tr>\n",
       "      <th>6117</th>\n",
       "      <td>Here’s one of my latest projects! Casted out of waterproof concrete I made this basin from scratch! It’s got 2 solar pumps powering 2 copper taps and I tiled it too :)</td>\n",
       "      <td>0</td>\n",
       "      <td>1</td>\n",
       "    </tr>\n",
       "    <tr>\n",
       "      <th>8194</th>\n",
       "      <td>How to prune young azaleas for eventual shape and density?</td>\n",
       "      <td>0</td>\n",
       "      <td>1</td>\n",
       "    </tr>\n",
       "    <tr>\n",
       "      <th>3823</th>\n",
       "      <td>Tips for a low-maintenance climbing vine / plant that can take some direct light?</td>\n",
       "      <td>1</td>\n",
       "      <td>0</td>\n",
       "    </tr>\n",
       "    <tr>\n",
       "      <th>5744</th>\n",
       "      <td>Took a few years, but finally figured out brassicas in my climate! (10b)</td>\n",
       "      <td>0</td>\n",
       "      <td>1</td>\n",
       "    </tr>\n",
       "    <tr>\n",
       "      <th>4894</th>\n",
       "      <td>Found on facebook &amp; thought it was too good not to share with everyone here</td>\n",
       "      <td>0</td>\n",
       "      <td>1</td>\n",
       "    </tr>\n",
       "    <tr>\n",
       "      <th>7603</th>\n",
       "      <td>What is this?</td>\n",
       "      <td>0</td>\n",
       "      <td>1</td>\n",
       "    </tr>\n",
       "    <tr>\n",
       "      <th>8336</th>\n",
       "      <td>List of plants that need darkness</td>\n",
       "      <td>0</td>\n",
       "      <td>1</td>\n",
       "    </tr>\n",
       "    <tr>\n",
       "      <th>2420</th>\n",
       "      <td>Home sweet home</td>\n",
       "      <td>1</td>\n",
       "      <td>0</td>\n",
       "    </tr>\n",
       "    <tr>\n",
       "      <th>6989</th>\n",
       "      <td>What are these?</td>\n",
       "      <td>0</td>\n",
       "      <td>1</td>\n",
       "    </tr>\n",
       "    <tr>\n",
       "      <th>3520</th>\n",
       "      <td>Do I need to remove it from the stem?</td>\n",
       "      <td>1</td>\n",
       "      <td>0</td>\n",
       "    </tr>\n",
       "    <tr>\n",
       "      <th>6609</th>\n",
       "      <td>My Burro's Tail update🪴</td>\n",
       "      <td>0</td>\n",
       "      <td>1</td>\n",
       "    </tr>\n",
       "  </tbody>\n",
       "</table>\n",
       "</div>"
      ],
      "text/plain": [
       "                                                                                                                                                          Misclassified_Posts  \\\n",
       "4847                                                                                                                                              Update on my Ohio pineapple   \n",
       "6600                                                                                                                                                 so proud of my babies...   \n",
       "8203                                                                                                                                                       Chunky potting mix   \n",
       "5622                                                                                                                                                 ain’t stupid if it works   \n",
       "5202                                                                                                                                          Before and after. Really proud.   \n",
       "6682                                                                                              I just started to learn to prune, how is it ? Any thoughts on improvements?   \n",
       "5713                                                                                                                                       Social distancing in my safe room.   \n",
       "8511                                                                                                               What plant is this and how do I overwinter it in Nebraska?   \n",
       "5385                                                                                                                                                   Oh well, one day maybe   \n",
       "6135                        My preschooler came home with a milk carton filled with dirt. Per her words “we gotta give it suns, waters and winds.” So, we did that. Now what?   \n",
       "4218                                                                                                                                               MoM, best way to cut back?   \n",
       "7506                                                                                                                                               My stunning coleus plant 😍   \n",
       "4236                                                                                                                                                 Mother of Thousands HELP   \n",
       "6817                                                                                                                                Biggest freaking hornworm I’ve ever seen.   \n",
       "6370                                                                                                                                 One Year Progress. So happy I could cry.   \n",
       "5591                                                                                                                                         Today on ‘Reddit made me buy it’   \n",
       "8531                                                                                                                                       How do I get this acorn to sprout?   \n",
       "8472                                                                                                                                                Poppy bloom out of season   \n",
       "2219                                                                                                                                    First time blooms from my butt plants   \n",
       "9062                                                                                                                                                            What is this?   \n",
       "8082                                                                                                                                               What would you plant here?   \n",
       "4782                                                                                                 Not sure if this is allowed but thought you folks might appreciate it :)   \n",
       "2839                                                                                                                      What are these plants? And how do I propagate them?   \n",
       "8619                                                                                                                                          Jerusalem artichoke tubers (UK)   \n",
       "6179                                                                                                                                                   My Calendula Heart : )   \n",
       "7495                                                                                                                                               Got this from a neighbour!   \n",
       "6042                                                                                                                                           Discovered on my morning walk!   \n",
       "5060                                                                                                                                              Not mine, but had to share!   \n",
       "1586                                                                                                                                               my water garden betta tank   \n",
       "6859                                                                                                                                                How large will this grow?   \n",
       "2968                                                                                                                                       How it started Vs how it’s growing   \n",
       "6348                                                                                                      Went to ancestral property (untouched for 25 years) and found this.   \n",
       "6115                                                                                                                                                        And so it begins!   \n",
       "7553                                                                                                                          Getting cold, so I brought my spicy Boi inside.   \n",
       "8577                                                                                                                Does anyone know species that are difficult to cultivate?   \n",
       "2186                                                                                                                                              She pushed out a flower! 😂😩   \n",
       "7072                                                                                                                        My aunts fig tree (with full access to devour it)   \n",
       "6270                                                                                                                                                                   Oh no!   \n",
       "2022                                                                                                             Finally found a use for all of those buckets from last year!   \n",
       "6117  Here’s one of my latest projects! Casted out of waterproof concrete I made this basin from scratch! It’s got 2 solar pumps powering 2 copper taps and I tiled it too :)   \n",
       "8194                                                                                                               How to prune young azaleas for eventual shape and density?   \n",
       "3823                                                                                        Tips for a low-maintenance climbing vine / plant that can take some direct light?   \n",
       "5744                                                                                                 Took a few years, but finally figured out brassicas in my climate! (10b)   \n",
       "4894                                                                                              Found on facebook & thought it was too good not to share with everyone here   \n",
       "7603                                                                                                                                                            What is this?   \n",
       "8336                                                                                                                                        List of plants that need darkness   \n",
       "2420                                                                                                                                                          Home sweet home   \n",
       "6989                                                                                                                                                          What are these?   \n",
       "3520                                                                                                                                    Do I need to remove it from the stem?   \n",
       "6609                                                                                                                                                  My Burro's Tail update🪴   \n",
       "\n",
       "      True Labels  Predicted_Labels  \n",
       "4847            0                 1  \n",
       "6600            0                 1  \n",
       "8203            0                 1  \n",
       "5622            0                 1  \n",
       "5202            0                 1  \n",
       "6682            0                 1  \n",
       "5713            0                 1  \n",
       "8511            0                 1  \n",
       "5385            0                 1  \n",
       "6135            0                 1  \n",
       "4218            1                 0  \n",
       "7506            0                 1  \n",
       "4236            1                 0  \n",
       "6817            0                 1  \n",
       "6370            0                 1  \n",
       "5591            0                 1  \n",
       "8531            0                 1  \n",
       "8472            0                 1  \n",
       "2219            1                 0  \n",
       "9062            0                 1  \n",
       "8082            0                 1  \n",
       "4782            0                 1  \n",
       "2839            1                 0  \n",
       "8619            0                 1  \n",
       "6179            0                 1  \n",
       "7495            0                 1  \n",
       "6042            0                 1  \n",
       "5060            0                 1  \n",
       "1586            1                 0  \n",
       "6859            0                 1  \n",
       "2968            1                 0  \n",
       "6348            0                 1  \n",
       "6115            0                 1  \n",
       "7553            0                 1  \n",
       "8577            0                 1  \n",
       "2186            1                 0  \n",
       "7072            0                 1  \n",
       "6270            0                 1  \n",
       "2022            1                 0  \n",
       "6117            0                 1  \n",
       "8194            0                 1  \n",
       "3823            1                 0  \n",
       "5744            0                 1  \n",
       "4894            0                 1  \n",
       "7603            0                 1  \n",
       "8336            0                 1  \n",
       "2420            1                 0  \n",
       "6989            0                 1  \n",
       "3520            1                 0  \n",
       "6609            0                 1  "
      ]
     },
     "execution_count": 53,
     "metadata": {},
     "output_type": "execute_result"
    }
   ],
   "source": [
    "misclassified_df.head(50)"
   ]
  }
 ],
 "metadata": {
  "kernelspec": {
   "display_name": "Python 3 (ipykernel)",
   "language": "python",
   "name": "python3"
  },
  "language_info": {
   "codemirror_mode": {
    "name": "ipython",
    "version": 3
   },
   "file_extension": ".py",
   "mimetype": "text/x-python",
   "name": "python",
   "nbconvert_exporter": "python",
   "pygments_lexer": "ipython3",
   "version": "3.11.5"
  }
 },
 "nbformat": 4,
 "nbformat_minor": 5
}
